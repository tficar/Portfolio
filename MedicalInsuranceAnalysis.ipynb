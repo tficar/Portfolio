{
 "cells": [
  {
   "cell_type": "markdown",
   "metadata": {},
   "source": [
    "# Medical Insurance Analysis\n",
    "### Dataset found [here](https://www.kaggle.com/mirichoi0218/insurance)."
   ]
  },
  {
   "cell_type": "markdown",
   "metadata": {},
   "source": [
    "## Background"
   ]
  },
  {
   "cell_type": "markdown",
   "metadata": {},
   "source": [
    "This data is taken from the textbook *Machine Learning with R* by Brett Lantz. It is simulated based on the demographic statistics from the US Census Bureau. There are only 7 columns, all of which are self explanatory. I will go into more detail later on in the analysis. I would like to note that there is not much information about the *charges* column. For my analysis, I will assume that this column contains the charges in USD on an annual basis."
   ]
  },
  {
   "cell_type": "markdown",
   "metadata": {},
   "source": [
    "My goal for the analysis is as follows:\n",
    "- Perform exploratory data analysis (EDA)\n",
    "    1. Take an in depth look at column distributions and high-level summary tables\n",
    "    2. Create a few visualizations to show the relationships between variables\n",
    "- Perform quantitative regression analysis\n",
    "    1. Create a linear regression model to estimate the annual charge\n",
    "- Predictions using Machine Learning\n",
    "    1. Create a couple different models to predict if the insured is a smoker\n",
    "- Predictions using Deep Learning\n",
    "    1. Make the same predictions as above using a neural network"
   ]
  },
  {
   "cell_type": "markdown",
   "metadata": {},
   "source": [
    "### Exploratory Data Analysis"
   ]
  },
  {
   "cell_type": "markdown",
   "metadata": {},
   "source": [
    "First, I will import the libraries that I will be using."
   ]
  },
  {
   "cell_type": "code",
   "execution_count": 111,
   "metadata": {},
   "outputs": [],
   "source": [
    "import pandas as pd\n",
    "import numpy as np\n",
    "import matplotlib.pyplot as plt\n",
    "from matplotlib import colors\n",
    "import seaborn as sns\n",
    "import plotly.express as px\n",
    "import dtale as dt"
   ]
  },
  {
   "cell_type": "code",
   "execution_count": 112,
   "metadata": {},
   "outputs": [],
   "source": [
    "# Load data\n",
    "df_raw = pd.read_csv('Data/Medical/datasets_13720_18513_insurance.csv')"
   ]
  },
  {
   "cell_type": "markdown",
   "metadata": {},
   "source": [
    "Now let's take a look at the data. Normally we would need to preprocess it by removing missing values & looking for errors. However, this data set is already clean, probably since it is simulated. This saves us a ton of time from not having to clean it."
   ]
  },
  {
   "cell_type": "code",
   "execution_count": 113,
   "metadata": {},
   "outputs": [
    {
     "name": "stdout",
     "output_type": "stream",
     "text": [
      "<class 'pandas.core.frame.DataFrame'>\n",
      "RangeIndex: 1338 entries, 0 to 1337\n",
      "Data columns (total 7 columns):\n",
      " #   Column    Non-Null Count  Dtype  \n",
      "---  ------    --------------  -----  \n",
      " 0   age       1338 non-null   int64  \n",
      " 1   sex       1338 non-null   object \n",
      " 2   bmi       1338 non-null   float64\n",
      " 3   children  1338 non-null   int64  \n",
      " 4   smoker    1338 non-null   object \n",
      " 5   region    1338 non-null   object \n",
      " 6   charges   1338 non-null   float64\n",
      "dtypes: float64(2), int64(2), object(3)\n",
      "memory usage: 73.3+ KB\n"
     ]
    }
   ],
   "source": [
    "df_raw.info()"
   ]
  },
  {
   "cell_type": "code",
   "execution_count": 114,
   "metadata": {},
   "outputs": [
    {
     "data": {
      "text/html": [
       "<div>\n",
       "<style scoped>\n",
       "    .dataframe tbody tr th:only-of-type {\n",
       "        vertical-align: middle;\n",
       "    }\n",
       "\n",
       "    .dataframe tbody tr th {\n",
       "        vertical-align: top;\n",
       "    }\n",
       "\n",
       "    .dataframe thead th {\n",
       "        text-align: right;\n",
       "    }\n",
       "</style>\n",
       "<table border=\"1\" class=\"dataframe\">\n",
       "  <thead>\n",
       "    <tr style=\"text-align: right;\">\n",
       "      <th></th>\n",
       "      <th>age</th>\n",
       "      <th>sex</th>\n",
       "      <th>bmi</th>\n",
       "      <th>children</th>\n",
       "      <th>smoker</th>\n",
       "      <th>region</th>\n",
       "      <th>charges</th>\n",
       "    </tr>\n",
       "  </thead>\n",
       "  <tbody>\n",
       "    <tr>\n",
       "      <th>0</th>\n",
       "      <td>19</td>\n",
       "      <td>female</td>\n",
       "      <td>27.900</td>\n",
       "      <td>0</td>\n",
       "      <td>yes</td>\n",
       "      <td>southwest</td>\n",
       "      <td>16884.92400</td>\n",
       "    </tr>\n",
       "    <tr>\n",
       "      <th>1</th>\n",
       "      <td>18</td>\n",
       "      <td>male</td>\n",
       "      <td>33.770</td>\n",
       "      <td>1</td>\n",
       "      <td>no</td>\n",
       "      <td>southeast</td>\n",
       "      <td>1725.55230</td>\n",
       "    </tr>\n",
       "    <tr>\n",
       "      <th>2</th>\n",
       "      <td>28</td>\n",
       "      <td>male</td>\n",
       "      <td>33.000</td>\n",
       "      <td>3</td>\n",
       "      <td>no</td>\n",
       "      <td>southeast</td>\n",
       "      <td>4449.46200</td>\n",
       "    </tr>\n",
       "    <tr>\n",
       "      <th>3</th>\n",
       "      <td>33</td>\n",
       "      <td>male</td>\n",
       "      <td>22.705</td>\n",
       "      <td>0</td>\n",
       "      <td>no</td>\n",
       "      <td>northwest</td>\n",
       "      <td>21984.47061</td>\n",
       "    </tr>\n",
       "    <tr>\n",
       "      <th>4</th>\n",
       "      <td>32</td>\n",
       "      <td>male</td>\n",
       "      <td>28.880</td>\n",
       "      <td>0</td>\n",
       "      <td>no</td>\n",
       "      <td>northwest</td>\n",
       "      <td>3866.85520</td>\n",
       "    </tr>\n",
       "  </tbody>\n",
       "</table>\n",
       "</div>"
      ],
      "text/plain": [
       "   age     sex     bmi  children smoker     region      charges\n",
       "0   19  female  27.900         0    yes  southwest  16884.92400\n",
       "1   18    male  33.770         1     no  southeast   1725.55230\n",
       "2   28    male  33.000         3     no  southeast   4449.46200\n",
       "3   33    male  22.705         0     no  northwest  21984.47061\n",
       "4   32    male  28.880         0     no  northwest   3866.85520"
      ]
     },
     "execution_count": 114,
     "metadata": {},
     "output_type": "execute_result"
    }
   ],
   "source": [
    "df_raw.head()"
   ]
  },
  {
   "cell_type": "markdown",
   "metadata": {},
   "source": [
    "So we have 7 columns, each with 1338 observations. We can also see the data type for each column. To examine each column and its distribution I will use the dtale library. I will highlight some of the dtale findings below."
   ]
  },
  {
   "cell_type": "code",
   "execution_count": 115,
   "metadata": {},
   "outputs": [
    {
     "data": {
      "text/html": [
       "\n",
       "        <iframe\n",
       "            width=\"100%\"\n",
       "            height=\"475\"\n",
       "            src=\"http://MSI:40000/dtale/iframe/1\"\n",
       "            frameborder=\"0\"\n",
       "            allowfullscreen\n",
       "        ></iframe>\n",
       "        "
      ],
      "text/plain": [
       "<IPython.lib.display.IFrame at 0x2107a1cf0c8>"
      ]
     },
     "metadata": {},
     "output_type": "display_data"
    },
    {
     "data": {
      "text/plain": []
     },
     "execution_count": 115,
     "metadata": {},
     "output_type": "execute_result"
    }
   ],
   "source": [
    "dt.show(df_raw)"
   ]
  },
  {
   "cell_type": "code",
   "execution_count": 116,
   "metadata": {},
   "outputs": [
    {
     "data": {
      "text/plain": [
       "sex\n",
       "female    662\n",
       "male      676\n",
       "Name: age, dtype: int64"
      ]
     },
     "execution_count": 116,
     "metadata": {},
     "output_type": "execute_result"
    }
   ],
   "source": [
    "df_raw.groupby('sex').count().iloc[:,0]"
   ]
  },
  {
   "cell_type": "code",
   "execution_count": 117,
   "metadata": {},
   "outputs": [
    {
     "data": {
      "text/plain": [
       "smoker\n",
       "no     1064\n",
       "yes     274\n",
       "Name: age, dtype: int64"
      ]
     },
     "execution_count": 117,
     "metadata": {},
     "output_type": "execute_result"
    }
   ],
   "source": [
    "df_raw.groupby('smoker').count().iloc[:,0]"
   ]
  },
  {
   "cell_type": "markdown",
   "metadata": {},
   "source": [
    "We can see that we have about a 50/50 split between sex. We also have about 76% of people who are not smokers."
   ]
  },
  {
   "cell_type": "markdown",
   "metadata": {},
   "source": [
    "Let's look at some column distributions."
   ]
  },
  {
   "cell_type": "code",
   "execution_count": 118,
   "metadata": {},
   "outputs": [
    {
     "data": {
      "image/png": "[encoded data removed]",
      "text/plain": [
       "<Figure size 576x288 with 1 Axes>"
      ]
     },
     "metadata": {},
     "output_type": "display_data"
    },
    {
     "data": {
      "image/png": "[encoded data removed]",
      "text/plain": [
       "<Figure size 576x288 with 1 Axes>"
      ]
     },
     "metadata": {},
     "output_type": "display_data"
    },
    {
     "data": {
      "image/png": "[encoded data removed]",
      "text/plain": [
       "<Figure size 576x288 with 1 Axes>"
      ]
     },
     "metadata": {},
     "output_type": "display_data"
    },
    {
     "data": {
      "image/png": "[encoded data removed]",
      "text/plain": [
       "<Figure size 576x288 with 1 Axes>"
      ]
     },
     "metadata": {},
     "output_type": "display_data"
    }
   ],
   "source": [
    "# Get all numerical columns\n",
    "numerical_cols = [col for col in df_raw if np.issubdtype(df_raw[col].dtype, np.number)]\n",
    "sns.set_style(style=\"darkgrid\")\n",
    "\n",
    "for col in numerical_cols:\n",
    "    \n",
    "    plt.figure(figsize=(8,4))\n",
    "    sns.distplot(df_raw[col], kde=False)\n",
    "    plt.show()"
   ]
  },
  {
   "cell_type": "markdown",
   "metadata": {},
   "source": [
    "For age, I notice that it seems to be uniformly distributed except for having twice as many 18-22 year olds. This is something I would look more into if more info on the data were available. For bmi, there is a clear normal distribution around about 31. For children, most people have 3 or less. Finally, for charges we see that they decrease exponentially and that most are below $20,000. The median will be best for a measure of central tendency for this column."
   ]
  },
  {
   "cell_type": "markdown",
   "metadata": {},
   "source": [
    "Now that we have looked at the data and the columns, let's create some summary tables to see if we notice any patterns between the variables. For example, do there seem to be any differences between males and females? What about smokers and non-smokers? These are the kinds of questions I will look to begin answering by creating some simple tables. Later on we will explore these questions with some visualizations, but for now let's just look at tables."
   ]
  },
  {
   "cell_type": "code",
   "execution_count": 119,
   "metadata": {},
   "outputs": [
    {
     "data": {
      "text/html": [
       "<div>\n",
       "<style scoped>\n",
       "    .dataframe tbody tr th:only-of-type {\n",
       "        vertical-align: middle;\n",
       "    }\n",
       "\n",
       "    .dataframe tbody tr th {\n",
       "        vertical-align: top;\n",
       "    }\n",
       "\n",
       "    .dataframe thead th {\n",
       "        text-align: right;\n",
       "    }\n",
       "</style>\n",
       "<table border=\"1\" class=\"dataframe\">\n",
       "  <thead>\n",
       "    <tr style=\"text-align: right;\">\n",
       "      <th></th>\n",
       "      <th>age</th>\n",
       "      <th>bmi</th>\n",
       "      <th>children</th>\n",
       "      <th>charges</th>\n",
       "    </tr>\n",
       "    <tr>\n",
       "      <th>sex</th>\n",
       "      <th></th>\n",
       "      <th></th>\n",
       "      <th></th>\n",
       "      <th></th>\n",
       "    </tr>\n",
       "  </thead>\n",
       "  <tbody>\n",
       "    <tr>\n",
       "      <th>female</th>\n",
       "      <td>39.503021</td>\n",
       "      <td>30.377749</td>\n",
       "      <td>1.074018</td>\n",
       "      <td>12569.578844</td>\n",
       "    </tr>\n",
       "    <tr>\n",
       "      <th>male</th>\n",
       "      <td>38.917160</td>\n",
       "      <td>30.943129</td>\n",
       "      <td>1.115385</td>\n",
       "      <td>13956.751178</td>\n",
       "    </tr>\n",
       "  </tbody>\n",
       "</table>\n",
       "</div>"
      ],
      "text/plain": [
       "              age        bmi  children       charges\n",
       "sex                                                 \n",
       "female  39.503021  30.377749  1.074018  12569.578844\n",
       "male    38.917160  30.943129  1.115385  13956.751178"
      ]
     },
     "execution_count": 119,
     "metadata": {},
     "output_type": "execute_result"
    }
   ],
   "source": [
    "df_raw.groupby('sex').mean()"
   ]
  },
  {
   "cell_type": "code",
   "execution_count": 120,
   "metadata": {},
   "outputs": [
    {
     "data": {
      "text/html": [
       "<div>\n",
       "<style scoped>\n",
       "    .dataframe tbody tr th:only-of-type {\n",
       "        vertical-align: middle;\n",
       "    }\n",
       "\n",
       "    .dataframe tbody tr th {\n",
       "        vertical-align: top;\n",
       "    }\n",
       "\n",
       "    .dataframe thead tr th {\n",
       "        text-align: left;\n",
       "    }\n",
       "\n",
       "    .dataframe thead tr:last-of-type th {\n",
       "        text-align: right;\n",
       "    }\n",
       "</style>\n",
       "<table border=\"1\" class=\"dataframe\">\n",
       "  <thead>\n",
       "    <tr>\n",
       "      <th></th>\n",
       "      <th colspan=\"4\" halign=\"left\">Region by Sex</th>\n",
       "    </tr>\n",
       "    <tr>\n",
       "      <th>region</th>\n",
       "      <th>northeast</th>\n",
       "      <th>northwest</th>\n",
       "      <th>southeast</th>\n",
       "      <th>southwest</th>\n",
       "    </tr>\n",
       "    <tr>\n",
       "      <th>sex</th>\n",
       "      <th></th>\n",
       "      <th></th>\n",
       "      <th></th>\n",
       "      <th></th>\n",
       "    </tr>\n",
       "  </thead>\n",
       "  <tbody>\n",
       "    <tr>\n",
       "      <th>female</th>\n",
       "      <td>161</td>\n",
       "      <td>164</td>\n",
       "      <td>175</td>\n",
       "      <td>162</td>\n",
       "    </tr>\n",
       "    <tr>\n",
       "      <th>male</th>\n",
       "      <td>163</td>\n",
       "      <td>161</td>\n",
       "      <td>189</td>\n",
       "      <td>163</td>\n",
       "    </tr>\n",
       "  </tbody>\n",
       "</table>\n",
       "</div>"
      ],
      "text/plain": [
       "       Region by Sex                              \n",
       "region     northeast northwest southeast southwest\n",
       "sex                                               \n",
       "female           161       164       175       162\n",
       "male             163       161       189       163"
      ]
     },
     "execution_count": 120,
     "metadata": {},
     "output_type": "execute_result"
    }
   ],
   "source": [
    "pd.DataFrame(df_raw.groupby(['sex','region']).count().iloc[:,0]).pivot_table(index='sex',columns='region').rename(columns={'age':'Region by Sex'})"
   ]
  },
  {
   "cell_type": "markdown",
   "metadata": {},
   "source": [
    "From the tables above we can see that the data for male and females is very similar. There is about a 10% higher average for charges for males, so this may be something to take a deeper look at later on. The number of observations by region is mostly uniform, with a slightly higher amount in the Southeast region. Let's move on to smoking."
   ]
  },
  {
   "cell_type": "code",
   "execution_count": 121,
   "metadata": {},
   "outputs": [
    {
     "data": {
      "text/html": [
       "<div>\n",
       "<style scoped>\n",
       "    .dataframe tbody tr th:only-of-type {\n",
       "        vertical-align: middle;\n",
       "    }\n",
       "\n",
       "    .dataframe tbody tr th {\n",
       "        vertical-align: top;\n",
       "    }\n",
       "\n",
       "    .dataframe thead th {\n",
       "        text-align: right;\n",
       "    }\n",
       "</style>\n",
       "<table border=\"1\" class=\"dataframe\">\n",
       "  <thead>\n",
       "    <tr style=\"text-align: right;\">\n",
       "      <th></th>\n",
       "      <th>age</th>\n",
       "      <th>bmi</th>\n",
       "      <th>children</th>\n",
       "      <th>charges</th>\n",
       "    </tr>\n",
       "    <tr>\n",
       "      <th>smoker</th>\n",
       "      <th></th>\n",
       "      <th></th>\n",
       "      <th></th>\n",
       "      <th></th>\n",
       "    </tr>\n",
       "  </thead>\n",
       "  <tbody>\n",
       "    <tr>\n",
       "      <th>no</th>\n",
       "      <td>39.385338</td>\n",
       "      <td>30.651795</td>\n",
       "      <td>1.090226</td>\n",
       "      <td>8434.268298</td>\n",
       "    </tr>\n",
       "    <tr>\n",
       "      <th>yes</th>\n",
       "      <td>38.514599</td>\n",
       "      <td>30.708449</td>\n",
       "      <td>1.113139</td>\n",
       "      <td>32050.231832</td>\n",
       "    </tr>\n",
       "  </tbody>\n",
       "</table>\n",
       "</div>"
      ],
      "text/plain": [
       "              age        bmi  children       charges\n",
       "smoker                                              \n",
       "no      39.385338  30.651795  1.090226   8434.268298\n",
       "yes     38.514599  30.708449  1.113139  32050.231832"
      ]
     },
     "execution_count": 121,
     "metadata": {},
     "output_type": "execute_result"
    }
   ],
   "source": [
    "df_raw.groupby('smoker').mean()"
   ]
  },
  {
   "cell_type": "code",
   "execution_count": 122,
   "metadata": {},
   "outputs": [
    {
     "data": {
      "text/html": [
       "<div>\n",
       "<style scoped>\n",
       "    .dataframe tbody tr th:only-of-type {\n",
       "        vertical-align: middle;\n",
       "    }\n",
       "\n",
       "    .dataframe tbody tr th {\n",
       "        vertical-align: top;\n",
       "    }\n",
       "\n",
       "    .dataframe thead tr th {\n",
       "        text-align: left;\n",
       "    }\n",
       "\n",
       "    .dataframe thead tr:last-of-type th {\n",
       "        text-align: right;\n",
       "    }\n",
       "</style>\n",
       "<table border=\"1\" class=\"dataframe\">\n",
       "  <thead>\n",
       "    <tr>\n",
       "      <th></th>\n",
       "      <th colspan=\"4\" halign=\"left\">age</th>\n",
       "    </tr>\n",
       "    <tr>\n",
       "      <th>region</th>\n",
       "      <th>northeast</th>\n",
       "      <th>northwest</th>\n",
       "      <th>southeast</th>\n",
       "      <th>southwest</th>\n",
       "    </tr>\n",
       "    <tr>\n",
       "      <th>smoker</th>\n",
       "      <th></th>\n",
       "      <th></th>\n",
       "      <th></th>\n",
       "      <th></th>\n",
       "    </tr>\n",
       "  </thead>\n",
       "  <tbody>\n",
       "    <tr>\n",
       "      <th>no</th>\n",
       "      <td>257</td>\n",
       "      <td>267</td>\n",
       "      <td>273</td>\n",
       "      <td>267</td>\n",
       "    </tr>\n",
       "    <tr>\n",
       "      <th>yes</th>\n",
       "      <td>67</td>\n",
       "      <td>58</td>\n",
       "      <td>91</td>\n",
       "      <td>58</td>\n",
       "    </tr>\n",
       "  </tbody>\n",
       "</table>\n",
       "</div>"
      ],
      "text/plain": [
       "             age                              \n",
       "region northeast northwest southeast southwest\n",
       "smoker                                        \n",
       "no           257       267       273       267\n",
       "yes           67        58        91        58"
      ]
     },
     "execution_count": 122,
     "metadata": {},
     "output_type": "execute_result"
    }
   ],
   "source": [
    "pd.DataFrame(df_raw.groupby(['smoker','region']).count().iloc[:,0]).pivot_table(index='smoker',columns='region').rename(columns={'smoker':'Region by Smoker'})"
   ]
  },
  {
   "cell_type": "markdown",
   "metadata": {},
   "source": [
    "These tables paint a similar yet more severe picture. Smokers are similar across the board except for when it comes to charges. Smokers (as expected) pay much more, almost 4x as much on average. The regional table also shows a more significant difference in the Southeast region, having about 50% more smokers on average than any other region. Now let's combine sex and smoker to see if this opens up another layer of the data."
   ]
  },
  {
   "cell_type": "code",
   "execution_count": 123,
   "metadata": {},
   "outputs": [
    {
     "data": {
      "text/html": [
       "<div>\n",
       "<style scoped>\n",
       "    .dataframe tbody tr th:only-of-type {\n",
       "        vertical-align: middle;\n",
       "    }\n",
       "\n",
       "    .dataframe tbody tr th {\n",
       "        vertical-align: top;\n",
       "    }\n",
       "\n",
       "    .dataframe thead th {\n",
       "        text-align: right;\n",
       "    }\n",
       "</style>\n",
       "<table border=\"1\" class=\"dataframe\">\n",
       "  <thead>\n",
       "    <tr style=\"text-align: right;\">\n",
       "      <th></th>\n",
       "      <th></th>\n",
       "      <th>age</th>\n",
       "      <th>bmi</th>\n",
       "      <th>children</th>\n",
       "      <th>charges</th>\n",
       "    </tr>\n",
       "    <tr>\n",
       "      <th>sex</th>\n",
       "      <th>smoker</th>\n",
       "      <th></th>\n",
       "      <th></th>\n",
       "      <th></th>\n",
       "      <th></th>\n",
       "    </tr>\n",
       "  </thead>\n",
       "  <tbody>\n",
       "    <tr>\n",
       "      <th rowspan=\"2\" valign=\"top\">female</th>\n",
       "      <th>no</th>\n",
       "      <td>39.691042</td>\n",
       "      <td>30.539525</td>\n",
       "      <td>1.087751</td>\n",
       "      <td>8762.297300</td>\n",
       "    </tr>\n",
       "    <tr>\n",
       "      <th>yes</th>\n",
       "      <td>38.608696</td>\n",
       "      <td>29.608261</td>\n",
       "      <td>1.008696</td>\n",
       "      <td>30678.996276</td>\n",
       "    </tr>\n",
       "    <tr>\n",
       "      <th rowspan=\"2\" valign=\"top\">male</th>\n",
       "      <th>no</th>\n",
       "      <td>39.061896</td>\n",
       "      <td>30.770580</td>\n",
       "      <td>1.092843</td>\n",
       "      <td>8087.204731</td>\n",
       "    </tr>\n",
       "    <tr>\n",
       "      <th>yes</th>\n",
       "      <td>38.446541</td>\n",
       "      <td>31.504182</td>\n",
       "      <td>1.188679</td>\n",
       "      <td>33042.005975</td>\n",
       "    </tr>\n",
       "  </tbody>\n",
       "</table>\n",
       "</div>"
      ],
      "text/plain": [
       "                     age        bmi  children       charges\n",
       "sex    smoker                                              \n",
       "female no      39.691042  30.539525  1.087751   8762.297300\n",
       "       yes     38.608696  29.608261  1.008696  30678.996276\n",
       "male   no      39.061896  30.770580  1.092843   8087.204731\n",
       "       yes     38.446541  31.504182  1.188679  33042.005975"
      ]
     },
     "execution_count": 123,
     "metadata": {},
     "output_type": "execute_result"
    }
   ],
   "source": [
    "df_raw.groupby(['sex','smoker']).mean()"
   ]
  },
  {
   "cell_type": "markdown",
   "metadata": {},
   "source": [
    "Again, there is not much deviation in any of the variables except for charges. From this table we can see that, of the non-smokers, females pay almost 10% more on average. Of the smokers, males pay about 8% more on average."
   ]
  },
  {
   "cell_type": "markdown",
   "metadata": {},
   "source": [
    "Now that we have a good understanding of the data and have looked at a few basic summary tables, let's explore it visually."
   ]
  },
  {
   "cell_type": "code",
   "execution_count": 124,
   "metadata": {},
   "outputs": [
    {
     "data": {
      "text/plain": [
       "<seaborn.axisgrid.FacetGrid at 0x2107a21bc48>"
      ]
     },
     "execution_count": 124,
     "metadata": {},
     "output_type": "execute_result"
    },
    {
     "data": {
      "image/png": "[encoded data removed]",
      "text/plain": [
       "<Figure size 432x432 with 4 Axes>"
      ]
     },
     "metadata": {},
     "output_type": "display_data"
    }
   ],
   "source": [
    "g = sns.FacetGrid(df_raw, col='sex', row='smoker')\n",
    "g.map(plt.scatter, 'age', 'charges')"
   ]
  },
  {
   "cell_type": "markdown",
   "metadata": {},
   "source": [
    "We can see a clear linear trend between age and charges across all combinations of smoker and sex. This is intuitive and lends me to think that age will be a significant feature to predict charges. One thing that stands out with this visual is the 2 separate clusters that are visible in the top charts (smoker = yes). Let's add in a 5th dimension to the data using color and see if region or children has anything to do with this."
   ]
  },
  {
   "cell_type": "code",
   "execution_count": 125,
   "metadata": {},
   "outputs": [
    {
     "data": {
      "text/plain": [
       "<seaborn.axisgrid.FacetGrid at 0x2107a588e48>"
      ]
     },
     "execution_count": 125,
     "metadata": {},
     "output_type": "execute_result"
    },
    {
     "data": {
      "image/png": "[encoded data removed]",
      "text/plain": [
       "<Figure size 513.5x432 with 4 Axes>"
      ]
     },
     "metadata": {},
     "output_type": "display_data"
    }
   ],
   "source": [
    "g = sns.FacetGrid(df_raw, col='sex', row='smoker', hue='region')\n",
    "g.map(plt.scatter, 'age', 'charges').add_legend()"
   ]
  },
  {
   "cell_type": "markdown",
   "metadata": {},
   "source": [
    "Region seems pretty random. We can see all 4 colors in both clusters, and the different colors seem to be roughly spread out evenly. Let's check the children column now."
   ]
  },
  {
   "cell_type": "code",
   "execution_count": 126,
   "metadata": {},
   "outputs": [
    {
     "data": {
      "text/plain": [
       "<seaborn.axisgrid.FacetGrid at 0x2107a593588>"
      ]
     },
     "execution_count": 126,
     "metadata": {},
     "output_type": "execute_result"
    },
    {
     "data": {
      "image/png": "[encoded data removed]",
      "text/plain": [
       "<Figure size 475.125x432 with 4 Axes>"
      ]
     },
     "metadata": {},
     "output_type": "display_data"
    }
   ],
   "source": [
    "g = sns.FacetGrid(df_raw, col='sex', row='smoker', hue='children')\n",
    "g.map(plt.scatter, 'age', 'charges').add_legend()"
   ]
  },
  {
   "cell_type": "markdown",
   "metadata": {},
   "source": [
    "Again, there does not seem to be a relationship between the 2 clusters and the number of children. My guess is that the clusters are a result of the way that the data was simulated. This is the only explanation that I can find. Let's continue with more visualizations."
   ]
  },
  {
   "cell_type": "code",
   "execution_count": 127,
   "metadata": {},
   "outputs": [
    {
     "data": {
      "text/plain": [
       "<matplotlib.axes._subplots.AxesSubplot at 0x2107a29d248>"
      ]
     },
     "execution_count": 127,
     "metadata": {},
     "output_type": "execute_result"
    },
    {
     "data": {
      "image/png": "[encoded data removed]",
      "text/plain": [
       "<Figure size 864x432 with 1 Axes>"
      ]
     },
     "metadata": {},
     "output_type": "display_data"
    }
   ],
   "source": [
    "bins = [17,30,40,50,70]\n",
    "df_raw['age_group'] = pd.cut(df_raw['age'], bins=bins, labels=['18-30','31-40','41-50','51-64'])\n",
    "\n",
    "plt.figure(figsize=(12,6))\n",
    "sns.boxplot(x='age_group', y='charges', hue='sex', data=df_raw)"
   ]
  },
  {
   "cell_type": "markdown",
   "metadata": {},
   "source": [
    "This visualization again shows the positive linear trend between age and charges. It also sheds some light on the differences between the distributions of males and females. Males seem to have a wider distribution of charges when compared to females."
   ]
  },
  {
   "cell_type": "code",
   "execution_count": 128,
   "metadata": {},
   "outputs": [
    {
     "data": {
      "application/vnd.plotly.v1+json": {
       "config": {
        "plotlyServerURL": "https://plot.ly"
       },
       "data": [
        {
         "branchvalues": "total",
         "domain": {
          "x": [
           0,
           1
          ],
          "y": [
           0,
           1
          ]
         },
         "hovertemplate": "labels=%{label}<br>charges=%{value}<br>parent=%{parent}<br>id=%{id}<extra></extra>",
         "ids": [
          "northeast/female/no",
          "northwest/female/no",
          "southeast/female/no",
          "southwest/female/no",
          "northeast/male/no",
          "northwest/male/no",
          "southeast/male/no",
          "southwest/male/no",
          "northeast/female/yes",
          "northwest/female/yes",
          "southeast/female/yes",
          "southwest/female/yes",
          "northeast/male/yes",
          "northwest/male/yes",
          "southeast/male/yes",
          "southwest/male/yes",
          "northeast/female",
          "northwest/female",
          "southeast/female",
          "southwest/female",
          "northeast/male",
          "northwest/male",
          "southeast/male",
          "southwest/male",
          "northeast",
          "northwest",
          "southeast",
          "southwest"
         ],
         "labels": [
          "no",
          "no",
          "no",
          "no",
          "no",
          "no",
          "no",
          "no",
          "yes",
          "yes",
          "yes",
          "yes",
          "yes",
          "yes",
          "yes",
          "yes",
          "female",
          "female",
          "female",
          "female",
          "male",
          "male",
          "male",
          "male",
          "northeast",
          "northwest",
          "southeast",
          "southwest"
         ],
         "name": "",
         "parents": [
          "northeast/female",
          "northwest/female",
          "southeast/female",
          "southwest/female",
          "northeast/male",
          "northwest/male",
          "southeast/male",
          "southwest/male",
          "northeast/female",
          "northwest/female",
          "southeast/female",
          "southwest/female",
          "northeast/male",
          "northwest/male",
          "southeast/male",
          "southwest/male",
          "northeast",
          "northwest",
          "southeast",
          "southwest",
          "northeast",
          "northwest",
          "southeast",
          "southwest",
          "",
          "",
          "",
          ""
         ],
         "type": "sunburst",
         "values": [
          1272536.3618289996,
          1186244.8216200005,
          1173188.5717199994,
          1161006.8676799997,
          1083005.2778000003,
          1098330.9903399993,
          1019606.4806199999,
          980142.0973099997,
          812929.3455300002,
          860453.9234199999,
          1189253.54579,
          665447.75703,
          1175197.5981500002,
          890682.2611599999,
          1981641.1651600003,
          1206157.9256000002,
          2085465.7073589996,
          2046698.7450399993,
          2362442.11751,
          1826454.6247099997,
          2258202.8759500002,
          1989013.2515000005,
          3001247.6457799985,
          2186300.0229100008,
          4343668.583308999,
          4035711.9965399993,
          5363689.763290002,
          4012754.647620001
         ]
        }
       ],
       "layout": {
        "legend": {
         "tracegroupgap": 0
        },
        "margin": {
         "t": 60
        },
        "template": {
         "data": {
          "bar": [
           {
            "error_x": {
             "color": "#2a3f5f"
            },
            "error_y": {
             "color": "#2a3f5f"
            },
            "marker": {
             "line": {
              "color": "#E5ECF6",
              "width": 0.5
             }
            },
            "type": "bar"
           }
          ],
          "barpolar": [
           {
            "marker": {
             "line": {
              "color": "#E5ECF6",
              "width": 0.5
             }
            },
            "type": "barpolar"
           }
          ],
          "carpet": [
           {
            "aaxis": {
             "endlinecolor": "#2a3f5f",
             "gridcolor": "white",
             "linecolor": "white",
             "minorgridcolor": "white",
             "startlinecolor": "#2a3f5f"
            },
            "baxis": {
             "endlinecolor": "#2a3f5f",
             "gridcolor": "white",
             "linecolor": "white",
             "minorgridcolor": "white",
             "startlinecolor": "#2a3f5f"
            },
            "type": "carpet"
           }
          ],
          "choropleth": [
           {
            "colorbar": {
             "outlinewidth": 0,
             "ticks": ""
            },
            "type": "choropleth"
           }
          ],
          "contour": [
           {
            "colorbar": {
             "outlinewidth": 0,
             "ticks": ""
            },
            "colorscale": [
             [
              0,
              "#0d0887"
             ],
             [
              0.1111111111111111,
              "#46039f"
             ],
             [
              0.2222222222222222,
              "#7201a8"
             ],
             [
              0.3333333333333333,
              "#9c179e"
             ],
             [
              0.4444444444444444,
              "#bd3786"
             ],
             [
              0.5555555555555556,
              "#d8576b"
             ],
             [
              0.6666666666666666,
              "#ed7953"
             ],
             [
              0.7777777777777778,
              "#fb9f3a"
             ],
             [
              0.8888888888888888,
              "#fdca26"
             ],
             [
              1,
              "#f0f921"
             ]
            ],
            "type": "contour"
           }
          ],
          "contourcarpet": [
           {
            "colorbar": {
             "outlinewidth": 0,
             "ticks": ""
            },
            "type": "contourcarpet"
           }
          ],
          "heatmap": [
           {
            "colorbar": {
             "outlinewidth": 0,
             "ticks": ""
            },
            "colorscale": [
             [
              0,
              "#0d0887"
             ],
             [
              0.1111111111111111,
              "#46039f"
             ],
             [
              0.2222222222222222,
              "#7201a8"
             ],
             [
              0.3333333333333333,
              "#9c179e"
             ],
             [
              0.4444444444444444,
              "#bd3786"
             ],
             [
              0.5555555555555556,
              "#d8576b"
             ],
             [
              0.6666666666666666,
              "#ed7953"
             ],
             [
              0.7777777777777778,
              "#fb9f3a"
             ],
             [
              0.8888888888888888,
              "#fdca26"
             ],
             [
              1,
              "#f0f921"
             ]
            ],
            "type": "heatmap"
           }
          ],
          "heatmapgl": [
           {
            "colorbar": {
             "outlinewidth": 0,
             "ticks": ""
            },
            "colorscale": [
             [
              0,
              "#0d0887"
             ],
             [
              0.1111111111111111,
              "#46039f"
             ],
             [
              0.2222222222222222,
              "#7201a8"
             ],
             [
              0.3333333333333333,
              "#9c179e"
             ],
             [
              0.4444444444444444,
              "#bd3786"
             ],
             [
              0.5555555555555556,
              "#d8576b"
             ],
             [
              0.6666666666666666,
              "#ed7953"
             ],
             [
              0.7777777777777778,
              "#fb9f3a"
             ],
             [
              0.8888888888888888,
              "#fdca26"
             ],
             [
              1,
              "#f0f921"
             ]
            ],
            "type": "heatmapgl"
           }
          ],
          "histogram": [
           {
            "marker": {
             "colorbar": {
              "outlinewidth": 0,
              "ticks": ""
             }
            },
            "type": "histogram"
           }
          ],
          "histogram2d": [
           {
            "colorbar": {
             "outlinewidth": 0,
             "ticks": ""
            },
            "colorscale": [
             [
              0,
              "#0d0887"
             ],
             [
              0.1111111111111111,
              "#46039f"
             ],
             [
              0.2222222222222222,
              "#7201a8"
             ],
             [
              0.3333333333333333,
              "#9c179e"
             ],
             [
              0.4444444444444444,
              "#bd3786"
             ],
             [
              0.5555555555555556,
              "#d8576b"
             ],
             [
              0.6666666666666666,
              "#ed7953"
             ],
             [
              0.7777777777777778,
              "#fb9f3a"
             ],
             [
              0.8888888888888888,
              "#fdca26"
             ],
             [
              1,
              "#f0f921"
             ]
            ],
            "type": "histogram2d"
           }
          ],
          "histogram2dcontour": [
           {
            "colorbar": {
             "outlinewidth": 0,
             "ticks": ""
            },
            "colorscale": [
             [
              0,
              "#0d0887"
             ],
             [
              0.1111111111111111,
              "#46039f"
             ],
             [
              0.2222222222222222,
              "#7201a8"
             ],
             [
              0.3333333333333333,
              "#9c179e"
             ],
             [
              0.4444444444444444,
              "#bd3786"
             ],
             [
              0.5555555555555556,
              "#d8576b"
             ],
             [
              0.6666666666666666,
              "#ed7953"
             ],
             [
              0.7777777777777778,
              "#fb9f3a"
             ],
             [
              0.8888888888888888,
              "#fdca26"
             ],
             [
              1,
              "#f0f921"
             ]
            ],
            "type": "histogram2dcontour"
           }
          ],
          "mesh3d": [
           {
            "colorbar": {
             "outlinewidth": 0,
             "ticks": ""
            },
            "type": "mesh3d"
           }
          ],
          "parcoords": [
           {
            "line": {
             "colorbar": {
              "outlinewidth": 0,
              "ticks": ""
             }
            },
            "type": "parcoords"
           }
          ],
          "pie": [
           {
            "automargin": true,
            "type": "pie"
           }
          ],
          "scatter": [
           {
            "marker": {
             "colorbar": {
              "outlinewidth": 0,
              "ticks": ""
             }
            },
            "type": "scatter"
           }
          ],
          "scatter3d": [
           {
            "line": {
             "colorbar": {
              "outlinewidth": 0,
              "ticks": ""
             }
            },
            "marker": {
             "colorbar": {
              "outlinewidth": 0,
              "ticks": ""
             }
            },
            "type": "scatter3d"
           }
          ],
          "scattercarpet": [
           {
            "marker": {
             "colorbar": {
              "outlinewidth": 0,
              "ticks": ""
             }
            },
            "type": "scattercarpet"
           }
          ],
          "scattergeo": [
           {
            "marker": {
             "colorbar": {
              "outlinewidth": 0,
              "ticks": ""
             }
            },
            "type": "scattergeo"
           }
          ],
          "scattergl": [
           {
            "marker": {
             "colorbar": {
              "outlinewidth": 0,
              "ticks": ""
             }
            },
            "type": "scattergl"
           }
          ],
          "scattermapbox": [
           {
            "marker": {
             "colorbar": {
              "outlinewidth": 0,
              "ticks": ""
             }
            },
            "type": "scattermapbox"
           }
          ],
          "scatterpolar": [
           {
            "marker": {
             "colorbar": {
              "outlinewidth": 0,
              "ticks": ""
             }
            },
            "type": "scatterpolar"
           }
          ],
          "scatterpolargl": [
           {
            "marker": {
             "colorbar": {
              "outlinewidth": 0,
              "ticks": ""
             }
            },
            "type": "scatterpolargl"
           }
          ],
          "scatterternary": [
           {
            "marker": {
             "colorbar": {
              "outlinewidth": 0,
              "ticks": ""
             }
            },
            "type": "scatterternary"
           }
          ],
          "surface": [
           {
            "colorbar": {
             "outlinewidth": 0,
             "ticks": ""
            },
            "colorscale": [
             [
              0,
              "#0d0887"
             ],
             [
              0.1111111111111111,
              "#46039f"
             ],
             [
              0.2222222222222222,
              "#7201a8"
             ],
             [
              0.3333333333333333,
              "#9c179e"
             ],
             [
              0.4444444444444444,
              "#bd3786"
             ],
             [
              0.5555555555555556,
              "#d8576b"
             ],
             [
              0.6666666666666666,
              "#ed7953"
             ],
             [
              0.7777777777777778,
              "#fb9f3a"
             ],
             [
              0.8888888888888888,
              "#fdca26"
             ],
             [
              1,
              "#f0f921"
             ]
            ],
            "type": "surface"
           }
          ],
          "table": [
           {
            "cells": {
             "fill": {
              "color": "#EBF0F8"
             },
             "line": {
              "color": "white"
             }
            },
            "header": {
             "fill": {
              "color": "#C8D4E3"
             },
             "line": {
              "color": "white"
             }
            },
            "type": "table"
           }
          ]
         },
         "layout": {
          "annotationdefaults": {
           "arrowcolor": "#2a3f5f",
           "arrowhead": 0,
           "arrowwidth": 1
          },
          "coloraxis": {
           "colorbar": {
            "outlinewidth": 0,
            "ticks": ""
           }
          },
          "colorscale": {
           "diverging": [
            [
             0,
             "#8e0152"
            ],
            [
             0.1,
             "#c51b7d"
            ],
            [
             0.2,
             "#de77ae"
            ],
            [
             0.3,
             "#f1b6da"
            ],
            [
             0.4,
             "#fde0ef"
            ],
            [
             0.5,
             "#f7f7f7"
            ],
            [
             0.6,
             "#e6f5d0"
            ],
            [
             0.7,
             "#b8e186"
            ],
            [
             0.8,
             "#7fbc41"
            ],
            [
             0.9,
             "#4d9221"
            ],
            [
             1,
             "#276419"
            ]
           ],
           "sequential": [
            [
             0,
             "#0d0887"
            ],
            [
             0.1111111111111111,
             "#46039f"
            ],
            [
             0.2222222222222222,
             "#7201a8"
            ],
            [
             0.3333333333333333,
             "#9c179e"
            ],
            [
             0.4444444444444444,
             "#bd3786"
            ],
            [
             0.5555555555555556,
             "#d8576b"
            ],
            [
             0.6666666666666666,
             "#ed7953"
            ],
            [
             0.7777777777777778,
             "#fb9f3a"
            ],
            [
             0.8888888888888888,
             "#fdca26"
            ],
            [
             1,
             "#f0f921"
            ]
           ],
           "sequentialminus": [
            [
             0,
             "#0d0887"
            ],
            [
             0.1111111111111111,
             "#46039f"
            ],
            [
             0.2222222222222222,
             "#7201a8"
            ],
            [
             0.3333333333333333,
             "#9c179e"
            ],
            [
             0.4444444444444444,
             "#bd3786"
            ],
            [
             0.5555555555555556,
             "#d8576b"
            ],
            [
             0.6666666666666666,
             "#ed7953"
            ],
            [
             0.7777777777777778,
             "#fb9f3a"
            ],
            [
             0.8888888888888888,
             "#fdca26"
            ],
            [
             1,
             "#f0f921"
            ]
           ]
          },
          "colorway": [
           "#636efa",
           "#EF553B",
           "#00cc96",
           "#ab63fa",
           "#FFA15A",
           "#19d3f3",
           "#FF6692",
           "#B6E880",
           "#FF97FF",
           "#FECB52"
          ],
          "font": {
           "color": "#2a3f5f"
          },
          "geo": {
           "bgcolor": "white",
           "lakecolor": "white",
           "landcolor": "#E5ECF6",
           "showlakes": true,
           "showland": true,
           "subunitcolor": "white"
          },
          "hoverlabel": {
           "align": "left"
          },
          "hovermode": "closest",
          "mapbox": {
           "style": "light"
          },
          "paper_bgcolor": "white",
          "plot_bgcolor": "#E5ECF6",
          "polar": {
           "angularaxis": {
            "gridcolor": "white",
            "linecolor": "white",
            "ticks": ""
           },
           "bgcolor": "#E5ECF6",
           "radialaxis": {
            "gridcolor": "white",
            "linecolor": "white",
            "ticks": ""
           }
          },
          "scene": {
           "xaxis": {
            "backgroundcolor": "#E5ECF6",
            "gridcolor": "white",
            "gridwidth": 2,
            "linecolor": "white",
            "showbackground": true,
            "ticks": "",
            "zerolinecolor": "white"
           },
           "yaxis": {
            "backgroundcolor": "#E5ECF6",
            "gridcolor": "white",
            "gridwidth": 2,
            "linecolor": "white",
            "showbackground": true,
            "ticks": "",
            "zerolinecolor": "white"
           },
           "zaxis": {
            "backgroundcolor": "#E5ECF6",
            "gridcolor": "white",
            "gridwidth": 2,
            "linecolor": "white",
            "showbackground": true,
            "ticks": "",
            "zerolinecolor": "white"
           }
          },
          "shapedefaults": {
           "line": {
            "color": "#2a3f5f"
           }
          },
          "ternary": {
           "aaxis": {
            "gridcolor": "white",
            "linecolor": "white",
            "ticks": ""
           },
           "baxis": {
            "gridcolor": "white",
            "linecolor": "white",
            "ticks": ""
           },
           "bgcolor": "#E5ECF6",
           "caxis": {
            "gridcolor": "white",
            "linecolor": "white",
            "ticks": ""
           }
          },
          "title": {
           "x": 0.05
          },
          "xaxis": {
           "automargin": true,
           "gridcolor": "white",
           "linecolor": "white",
           "ticks": "",
           "title": {
            "standoff": 15
           },
           "zerolinecolor": "white",
           "zerolinewidth": 2
          },
          "yaxis": {
           "automargin": true,
           "gridcolor": "white",
           "linecolor": "white",
           "ticks": "",
           "title": {
            "standoff": 15
           },
           "zerolinecolor": "white",
           "zerolinewidth": 2
          }
         }
        },
        "title": {
         "text": "Charge Amount Demographics",
         "x": 0.5
        }
       }
      },
      "text/html": [
       "<div>\n",
       "        \n",
       "        \n",
       "            <div id=\"3ee46062-b936-46e3-a133-961923299c66\" class=\"plotly-graph-div\" style=\"height:525px; width:100%;\"></div>\n",
       "            <script type=\"text/javascript\">\n",
       "                require([\"plotly\"], function(Plotly) {\n",
       "                    window.PLOTLYENV=window.PLOTLYENV || {};\n",
       "                    \n",
       "                if (document.getElementById(\"3ee46062-b936-46e3-a133-961923299c66\")) {\n",
       "                    Plotly.newPlot(\n",
       "                        '3ee46062-b936-46e3-a133-961923299c66',\n",
       "                        [{\"branchvalues\": \"total\", \"domain\": {\"x\": [0.0, 1.0], \"y\": [0.0, 1.0]}, \"hovertemplate\": \"labels=%{label}<br>charges=%{value}<br>parent=%{parent}<br>id=%{id}<extra></extra>\", \"ids\": [\"northeast/female/no\", \"northwest/female/no\", \"southeast/female/no\", \"southwest/female/no\", \"northeast/male/no\", \"northwest/male/no\", \"southeast/male/no\", \"southwest/male/no\", \"northeast/female/yes\", \"northwest/female/yes\", \"southeast/female/yes\", \"southwest/female/yes\", \"northeast/male/yes\", \"northwest/male/yes\", \"southeast/male/yes\", \"southwest/male/yes\", \"northeast/female\", \"northwest/female\", \"southeast/female\", \"southwest/female\", \"northeast/male\", \"northwest/male\", \"southeast/male\", \"southwest/male\", \"northeast\", \"northwest\", \"southeast\", \"southwest\"], \"labels\": [\"no\", \"no\", \"no\", \"no\", \"no\", \"no\", \"no\", \"no\", \"yes\", \"yes\", \"yes\", \"yes\", \"yes\", \"yes\", \"yes\", \"yes\", \"female\", \"female\", \"female\", \"female\", \"male\", \"male\", \"male\", \"male\", \"northeast\", \"northwest\", \"southeast\", \"southwest\"], \"name\": \"\", \"parents\": [\"northeast/female\", \"northwest/female\", \"southeast/female\", \"southwest/female\", \"northeast/male\", \"northwest/male\", \"southeast/male\", \"southwest/male\", \"northeast/female\", \"northwest/female\", \"southeast/female\", \"southwest/female\", \"northeast/male\", \"northwest/male\", \"southeast/male\", \"southwest/male\", \"northeast\", \"northwest\", \"southeast\", \"southwest\", \"northeast\", \"northwest\", \"southeast\", \"southwest\", \"\", \"\", \"\", \"\"], \"type\": \"sunburst\", \"values\": [1272536.3618289996, 1186244.8216200005, 1173188.5717199994, 1161006.8676799997, 1083005.2778000003, 1098330.9903399993, 1019606.4806199999, 980142.0973099997, 812929.3455300002, 860453.9234199999, 1189253.54579, 665447.75703, 1175197.5981500002, 890682.2611599999, 1981641.1651600003, 1206157.9256000002, 2085465.7073589996, 2046698.7450399993, 2362442.11751, 1826454.6247099997, 2258202.8759500002, 1989013.2515000005, 3001247.6457799985, 2186300.0229100008, 4343668.583308999, 4035711.9965399993, 5363689.763290002, 4012754.647620001]}],\n",
       "                        {\"legend\": {\"tracegroupgap\": 0}, \"margin\": {\"t\": 60}, \"template\": {\"data\": {\"bar\": [{\"error_x\": {\"color\": \"#2a3f5f\"}, \"error_y\": {\"color\": \"#2a3f5f\"}, \"marker\": {\"line\": {\"color\": \"#E5ECF6\", \"width\": 0.5}}, \"type\": \"bar\"}], \"barpolar\": [{\"marker\": {\"line\": {\"color\": \"#E5ECF6\", \"width\": 0.5}}, \"type\": \"barpolar\"}], \"carpet\": [{\"aaxis\": {\"endlinecolor\": \"#2a3f5f\", \"gridcolor\": \"white\", \"linecolor\": \"white\", \"minorgridcolor\": \"white\", \"startlinecolor\": \"#2a3f5f\"}, \"baxis\": {\"endlinecolor\": \"#2a3f5f\", \"gridcolor\": \"white\", \"linecolor\": \"white\", \"minorgridcolor\": \"white\", \"startlinecolor\": \"#2a3f5f\"}, \"type\": \"carpet\"}], \"choropleth\": [{\"colorbar\": {\"outlinewidth\": 0, \"ticks\": \"\"}, \"type\": \"choropleth\"}], \"contour\": [{\"colorbar\": {\"outlinewidth\": 0, \"ticks\": \"\"}, \"colorscale\": [[0.0, \"#0d0887\"], [0.1111111111111111, \"#46039f\"], [0.2222222222222222, \"#7201a8\"], [0.3333333333333333, \"#9c179e\"], [0.4444444444444444, \"#bd3786\"], [0.5555555555555556, \"#d8576b\"], [0.6666666666666666, \"#ed7953\"], [0.7777777777777778, \"#fb9f3a\"], [0.8888888888888888, \"#fdca26\"], [1.0, \"#f0f921\"]], \"type\": \"contour\"}], \"contourcarpet\": [{\"colorbar\": {\"outlinewidth\": 0, \"ticks\": \"\"}, \"type\": \"contourcarpet\"}], \"heatmap\": [{\"colorbar\": {\"outlinewidth\": 0, \"ticks\": \"\"}, \"colorscale\": [[0.0, \"#0d0887\"], [0.1111111111111111, \"#46039f\"], [0.2222222222222222, \"#7201a8\"], [0.3333333333333333, \"#9c179e\"], [0.4444444444444444, \"#bd3786\"], [0.5555555555555556, \"#d8576b\"], [0.6666666666666666, \"#ed7953\"], [0.7777777777777778, \"#fb9f3a\"], [0.8888888888888888, \"#fdca26\"], [1.0, \"#f0f921\"]], \"type\": \"heatmap\"}], \"heatmapgl\": [{\"colorbar\": {\"outlinewidth\": 0, \"ticks\": \"\"}, \"colorscale\": [[0.0, \"#0d0887\"], [0.1111111111111111, \"#46039f\"], [0.2222222222222222, \"#7201a8\"], [0.3333333333333333, \"#9c179e\"], [0.4444444444444444, \"#bd3786\"], [0.5555555555555556, \"#d8576b\"], [0.6666666666666666, \"#ed7953\"], [0.7777777777777778, \"#fb9f3a\"], [0.8888888888888888, \"#fdca26\"], [1.0, \"#f0f921\"]], \"type\": \"heatmapgl\"}], \"histogram\": [{\"marker\": {\"colorbar\": {\"outlinewidth\": 0, \"ticks\": \"\"}}, \"type\": \"histogram\"}], \"histogram2d\": [{\"colorbar\": {\"outlinewidth\": 0, \"ticks\": \"\"}, \"colorscale\": [[0.0, \"#0d0887\"], [0.1111111111111111, \"#46039f\"], [0.2222222222222222, \"#7201a8\"], [0.3333333333333333, \"#9c179e\"], [0.4444444444444444, \"#bd3786\"], [0.5555555555555556, \"#d8576b\"], [0.6666666666666666, \"#ed7953\"], [0.7777777777777778, \"#fb9f3a\"], [0.8888888888888888, \"#fdca26\"], [1.0, \"#f0f921\"]], \"type\": \"histogram2d\"}], \"histogram2dcontour\": [{\"colorbar\": {\"outlinewidth\": 0, \"ticks\": \"\"}, \"colorscale\": [[0.0, \"#0d0887\"], [0.1111111111111111, \"#46039f\"], [0.2222222222222222, \"#7201a8\"], [0.3333333333333333, \"#9c179e\"], [0.4444444444444444, \"#bd3786\"], [0.5555555555555556, \"#d8576b\"], [0.6666666666666666, \"#ed7953\"], [0.7777777777777778, \"#fb9f3a\"], [0.8888888888888888, \"#fdca26\"], [1.0, \"#f0f921\"]], \"type\": \"histogram2dcontour\"}], \"mesh3d\": [{\"colorbar\": {\"outlinewidth\": 0, \"ticks\": \"\"}, \"type\": \"mesh3d\"}], \"parcoords\": [{\"line\": {\"colorbar\": {\"outlinewidth\": 0, \"ticks\": \"\"}}, \"type\": \"parcoords\"}], \"pie\": [{\"automargin\": true, \"type\": \"pie\"}], \"scatter\": [{\"marker\": {\"colorbar\": {\"outlinewidth\": 0, \"ticks\": \"\"}}, \"type\": \"scatter\"}], \"scatter3d\": [{\"line\": {\"colorbar\": {\"outlinewidth\": 0, \"ticks\": \"\"}}, \"marker\": {\"colorbar\": {\"outlinewidth\": 0, \"ticks\": \"\"}}, \"type\": \"scatter3d\"}], \"scattercarpet\": [{\"marker\": {\"colorbar\": {\"outlinewidth\": 0, \"ticks\": \"\"}}, \"type\": \"scattercarpet\"}], \"scattergeo\": [{\"marker\": {\"colorbar\": {\"outlinewidth\": 0, \"ticks\": \"\"}}, \"type\": \"scattergeo\"}], \"scattergl\": [{\"marker\": {\"colorbar\": {\"outlinewidth\": 0, \"ticks\": \"\"}}, \"type\": \"scattergl\"}], \"scattermapbox\": [{\"marker\": {\"colorbar\": {\"outlinewidth\": 0, \"ticks\": \"\"}}, \"type\": \"scattermapbox\"}], \"scatterpolar\": [{\"marker\": {\"colorbar\": {\"outlinewidth\": 0, \"ticks\": \"\"}}, \"type\": \"scatterpolar\"}], \"scatterpolargl\": [{\"marker\": {\"colorbar\": {\"outlinewidth\": 0, \"ticks\": \"\"}}, \"type\": \"scatterpolargl\"}], \"scatterternary\": [{\"marker\": {\"colorbar\": {\"outlinewidth\": 0, \"ticks\": \"\"}}, \"type\": \"scatterternary\"}], \"surface\": [{\"colorbar\": {\"outlinewidth\": 0, \"ticks\": \"\"}, \"colorscale\": [[0.0, \"#0d0887\"], [0.1111111111111111, \"#46039f\"], [0.2222222222222222, \"#7201a8\"], [0.3333333333333333, \"#9c179e\"], [0.4444444444444444, \"#bd3786\"], [0.5555555555555556, \"#d8576b\"], [0.6666666666666666, \"#ed7953\"], [0.7777777777777778, \"#fb9f3a\"], [0.8888888888888888, \"#fdca26\"], [1.0, \"#f0f921\"]], \"type\": \"surface\"}], \"table\": [{\"cells\": {\"fill\": {\"color\": \"#EBF0F8\"}, \"line\": {\"color\": \"white\"}}, \"header\": {\"fill\": {\"color\": \"#C8D4E3\"}, \"line\": {\"color\": \"white\"}}, \"type\": \"table\"}]}, \"layout\": {\"annotationdefaults\": {\"arrowcolor\": \"#2a3f5f\", \"arrowhead\": 0, \"arrowwidth\": 1}, \"coloraxis\": {\"colorbar\": {\"outlinewidth\": 0, \"ticks\": \"\"}}, \"colorscale\": {\"diverging\": [[0, \"#8e0152\"], [0.1, \"#c51b7d\"], [0.2, \"#de77ae\"], [0.3, \"#f1b6da\"], [0.4, \"#fde0ef\"], [0.5, \"#f7f7f7\"], [0.6, \"#e6f5d0\"], [0.7, \"#b8e186\"], [0.8, \"#7fbc41\"], [0.9, \"#4d9221\"], [1, \"#276419\"]], \"sequential\": [[0.0, \"#0d0887\"], [0.1111111111111111, \"#46039f\"], [0.2222222222222222, \"#7201a8\"], [0.3333333333333333, \"#9c179e\"], [0.4444444444444444, \"#bd3786\"], [0.5555555555555556, \"#d8576b\"], [0.6666666666666666, \"#ed7953\"], [0.7777777777777778, \"#fb9f3a\"], [0.8888888888888888, \"#fdca26\"], [1.0, \"#f0f921\"]], \"sequentialminus\": [[0.0, \"#0d0887\"], [0.1111111111111111, \"#46039f\"], [0.2222222222222222, \"#7201a8\"], [0.3333333333333333, \"#9c179e\"], [0.4444444444444444, \"#bd3786\"], [0.5555555555555556, \"#d8576b\"], [0.6666666666666666, \"#ed7953\"], [0.7777777777777778, \"#fb9f3a\"], [0.8888888888888888, \"#fdca26\"], [1.0, \"#f0f921\"]]}, \"colorway\": [\"#636efa\", \"#EF553B\", \"#00cc96\", \"#ab63fa\", \"#FFA15A\", \"#19d3f3\", \"#FF6692\", \"#B6E880\", \"#FF97FF\", \"#FECB52\"], \"font\": {\"color\": \"#2a3f5f\"}, \"geo\": {\"bgcolor\": \"white\", \"lakecolor\": \"white\", \"landcolor\": \"#E5ECF6\", \"showlakes\": true, \"showland\": true, \"subunitcolor\": \"white\"}, \"hoverlabel\": {\"align\": \"left\"}, \"hovermode\": \"closest\", \"mapbox\": {\"style\": \"light\"}, \"paper_bgcolor\": \"white\", \"plot_bgcolor\": \"#E5ECF6\", \"polar\": {\"angularaxis\": {\"gridcolor\": \"white\", \"linecolor\": \"white\", \"ticks\": \"\"}, \"bgcolor\": \"#E5ECF6\", \"radialaxis\": {\"gridcolor\": \"white\", \"linecolor\": \"white\", \"ticks\": \"\"}}, \"scene\": {\"xaxis\": {\"backgroundcolor\": \"#E5ECF6\", \"gridcolor\": \"white\", \"gridwidth\": 2, \"linecolor\": \"white\", \"showbackground\": true, \"ticks\": \"\", \"zerolinecolor\": \"white\"}, \"yaxis\": {\"backgroundcolor\": \"#E5ECF6\", \"gridcolor\": \"white\", \"gridwidth\": 2, \"linecolor\": \"white\", \"showbackground\": true, \"ticks\": \"\", \"zerolinecolor\": \"white\"}, \"zaxis\": {\"backgroundcolor\": \"#E5ECF6\", \"gridcolor\": \"white\", \"gridwidth\": 2, \"linecolor\": \"white\", \"showbackground\": true, \"ticks\": \"\", \"zerolinecolor\": \"white\"}}, \"shapedefaults\": {\"line\": {\"color\": \"#2a3f5f\"}}, \"ternary\": {\"aaxis\": {\"gridcolor\": \"white\", \"linecolor\": \"white\", \"ticks\": \"\"}, \"baxis\": {\"gridcolor\": \"white\", \"linecolor\": \"white\", \"ticks\": \"\"}, \"bgcolor\": \"#E5ECF6\", \"caxis\": {\"gridcolor\": \"white\", \"linecolor\": \"white\", \"ticks\": \"\"}}, \"title\": {\"x\": 0.05}, \"xaxis\": {\"automargin\": true, \"gridcolor\": \"white\", \"linecolor\": \"white\", \"ticks\": \"\", \"title\": {\"standoff\": 15}, \"zerolinecolor\": \"white\", \"zerolinewidth\": 2}, \"yaxis\": {\"automargin\": true, \"gridcolor\": \"white\", \"linecolor\": \"white\", \"ticks\": \"\", \"title\": {\"standoff\": 15}, \"zerolinecolor\": \"white\", \"zerolinewidth\": 2}}}, \"title\": {\"text\": \"Charge Amount Demographics\", \"x\": 0.5}},\n",
       "                        {\"responsive\": true}\n",
       "                    ).then(function(){\n",
       "                            \n",
       "var gd = document.getElementById('3ee46062-b936-46e3-a133-961923299c66');\n",
       "var x = new MutationObserver(function (mutations, observer) {{\n",
       "        var display = window.getComputedStyle(gd).display;\n",
       "        if (!display || display === 'none') {{\n",
       "            console.log([gd, 'removed!']);\n",
       "            Plotly.purge(gd);\n",
       "            observer.disconnect();\n",
       "        }}\n",
       "}});\n",
       "\n",
       "// Listen for the removal of the full notebook cells\n",
       "var notebookContainer = gd.closest('#notebook-container');\n",
       "if (notebookContainer) {{\n",
       "    x.observe(notebookContainer, {childList: true});\n",
       "}}\n",
       "\n",
       "// Listen for the clearing of the current output cell\n",
       "var outputEl = gd.closest('.output');\n",
       "if (outputEl) {{\n",
       "    x.observe(outputEl, {childList: true});\n",
       "}}\n",
       "\n",
       "                        })\n",
       "                };\n",
       "                });\n",
       "            </script>\n",
       "        </div>"
      ]
     },
     "metadata": {},
     "output_type": "display_data"
    }
   ],
   "source": [
    "fig = px.sunburst(\n",
    "    data_frame = df_raw,\n",
    "    path = ['region', 'sex', 'smoker'],\n",
    "    values = 'charges'\n",
    ")\n",
    "fig.update_layout(title_text='Charge Amount Demographics', title_x=0.5)\n",
    "fig.show()"
   ]
  },
  {
   "cell_type": "markdown",
   "metadata": {},
   "source": [
    "This is a sunburst chart in plotly. It is basically a multi-dimensional pie chart that is interactive. The proportions are based upon the total charges for each group. This chart helps visualize how evenly distributed all of the groups are. We can also visibly see how many more smokers there are in the southeast region, specifically males."
   ]
  },
  {
   "cell_type": "markdown",
   "metadata": {},
   "source": [
    "Let's move on to correlations now."
   ]
  },
  {
   "cell_type": "code",
   "execution_count": 129,
   "metadata": {
    "scrolled": true
   },
   "outputs": [
    {
     "data": {
      "text/plain": [
       "<matplotlib.axes._subplots.AxesSubplot at 0x2106d81b208>"
      ]
     },
     "execution_count": 129,
     "metadata": {},
     "output_type": "execute_result"
    },
    {
     "data": {
      "image/png": "[encoded data removed]",
      "text/plain": [
       "<Figure size 432x288 with 2 Axes>"
      ]
     },
     "metadata": {},
     "output_type": "display_data"
    }
   ],
   "source": [
    "sns.heatmap(df_raw[numerical_cols].corr(), cmap = 'RdBu', vmin = -1, annot = True)"
   ]
  },
  {
   "cell_type": "markdown",
   "metadata": {},
   "source": [
    "We can see that there isn't much correlation between charges and any of the quantitative variables. We know that smoker will be a significant factor in determining the charges, so perhaps the qualitative variables will do a better job. We will explore these as we create different linear regression models."
   ]
  },
  {
   "cell_type": "markdown",
   "metadata": {},
   "source": [
    "### Regression Analysis"
   ]
  },
  {
   "cell_type": "markdown",
   "metadata": {},
   "source": [
    "Let's start our regression analysis. We need to make sure that our categorical variable of smoker is included in the regression model. For this, we will use the get_dummies function from pandas."
   ]
  },
  {
   "cell_type": "code",
   "execution_count": 130,
   "metadata": {},
   "outputs": [],
   "source": [
    "from sklearn.model_selection import train_test_split\n",
    "from sklearn.linear_model import LinearRegression\n",
    "from sklearn import metrics"
   ]
  },
  {
   "cell_type": "code",
   "execution_count": 131,
   "metadata": {},
   "outputs": [
    {
     "data": {
      "text/html": [
       "<div>\n",
       "<style scoped>\n",
       "    .dataframe tbody tr th:only-of-type {\n",
       "        vertical-align: middle;\n",
       "    }\n",
       "\n",
       "    .dataframe tbody tr th {\n",
       "        vertical-align: top;\n",
       "    }\n",
       "\n",
       "    .dataframe thead th {\n",
       "        text-align: right;\n",
       "    }\n",
       "</style>\n",
       "<table border=\"1\" class=\"dataframe\">\n",
       "  <thead>\n",
       "    <tr style=\"text-align: right;\">\n",
       "      <th></th>\n",
       "      <th>age</th>\n",
       "      <th>bmi</th>\n",
       "      <th>children</th>\n",
       "      <th>charges</th>\n",
       "      <th>sex_female</th>\n",
       "      <th>sex_male</th>\n",
       "      <th>smoker_no</th>\n",
       "      <th>smoker_yes</th>\n",
       "      <th>region_northeast</th>\n",
       "      <th>region_northwest</th>\n",
       "      <th>region_southeast</th>\n",
       "      <th>region_southwest</th>\n",
       "      <th>age_group_18-30</th>\n",
       "      <th>age_group_31-40</th>\n",
       "      <th>age_group_41-50</th>\n",
       "      <th>age_group_51-64</th>\n",
       "    </tr>\n",
       "  </thead>\n",
       "  <tbody>\n",
       "    <tr>\n",
       "      <th>0</th>\n",
       "      <td>19</td>\n",
       "      <td>27.900</td>\n",
       "      <td>0</td>\n",
       "      <td>16884.92400</td>\n",
       "      <td>1</td>\n",
       "      <td>0</td>\n",
       "      <td>0</td>\n",
       "      <td>1</td>\n",
       "      <td>0</td>\n",
       "      <td>0</td>\n",
       "      <td>0</td>\n",
       "      <td>1</td>\n",
       "      <td>1</td>\n",
       "      <td>0</td>\n",
       "      <td>0</td>\n",
       "      <td>0</td>\n",
       "    </tr>\n",
       "    <tr>\n",
       "      <th>1</th>\n",
       "      <td>18</td>\n",
       "      <td>33.770</td>\n",
       "      <td>1</td>\n",
       "      <td>1725.55230</td>\n",
       "      <td>0</td>\n",
       "      <td>1</td>\n",
       "      <td>1</td>\n",
       "      <td>0</td>\n",
       "      <td>0</td>\n",
       "      <td>0</td>\n",
       "      <td>1</td>\n",
       "      <td>0</td>\n",
       "      <td>1</td>\n",
       "      <td>0</td>\n",
       "      <td>0</td>\n",
       "      <td>0</td>\n",
       "    </tr>\n",
       "    <tr>\n",
       "      <th>2</th>\n",
       "      <td>28</td>\n",
       "      <td>33.000</td>\n",
       "      <td>3</td>\n",
       "      <td>4449.46200</td>\n",
       "      <td>0</td>\n",
       "      <td>1</td>\n",
       "      <td>1</td>\n",
       "      <td>0</td>\n",
       "      <td>0</td>\n",
       "      <td>0</td>\n",
       "      <td>1</td>\n",
       "      <td>0</td>\n",
       "      <td>1</td>\n",
       "      <td>0</td>\n",
       "      <td>0</td>\n",
       "      <td>0</td>\n",
       "    </tr>\n",
       "    <tr>\n",
       "      <th>3</th>\n",
       "      <td>33</td>\n",
       "      <td>22.705</td>\n",
       "      <td>0</td>\n",
       "      <td>21984.47061</td>\n",
       "      <td>0</td>\n",
       "      <td>1</td>\n",
       "      <td>1</td>\n",
       "      <td>0</td>\n",
       "      <td>0</td>\n",
       "      <td>1</td>\n",
       "      <td>0</td>\n",
       "      <td>0</td>\n",
       "      <td>0</td>\n",
       "      <td>1</td>\n",
       "      <td>0</td>\n",
       "      <td>0</td>\n",
       "    </tr>\n",
       "    <tr>\n",
       "      <th>4</th>\n",
       "      <td>32</td>\n",
       "      <td>28.880</td>\n",
       "      <td>0</td>\n",
       "      <td>3866.85520</td>\n",
       "      <td>0</td>\n",
       "      <td>1</td>\n",
       "      <td>1</td>\n",
       "      <td>0</td>\n",
       "      <td>0</td>\n",
       "      <td>1</td>\n",
       "      <td>0</td>\n",
       "      <td>0</td>\n",
       "      <td>0</td>\n",
       "      <td>1</td>\n",
       "      <td>0</td>\n",
       "      <td>0</td>\n",
       "    </tr>\n",
       "    <tr>\n",
       "      <th>...</th>\n",
       "      <td>...</td>\n",
       "      <td>...</td>\n",
       "      <td>...</td>\n",
       "      <td>...</td>\n",
       "      <td>...</td>\n",
       "      <td>...</td>\n",
       "      <td>...</td>\n",
       "      <td>...</td>\n",
       "      <td>...</td>\n",
       "      <td>...</td>\n",
       "      <td>...</td>\n",
       "      <td>...</td>\n",
       "      <td>...</td>\n",
       "      <td>...</td>\n",
       "      <td>...</td>\n",
       "      <td>...</td>\n",
       "    </tr>\n",
       "    <tr>\n",
       "      <th>1333</th>\n",
       "      <td>50</td>\n",
       "      <td>30.970</td>\n",
       "      <td>3</td>\n",
       "      <td>10600.54830</td>\n",
       "      <td>0</td>\n",
       "      <td>1</td>\n",
       "      <td>1</td>\n",
       "      <td>0</td>\n",
       "      <td>0</td>\n",
       "      <td>1</td>\n",
       "      <td>0</td>\n",
       "      <td>0</td>\n",
       "      <td>0</td>\n",
       "      <td>0</td>\n",
       "      <td>1</td>\n",
       "      <td>0</td>\n",
       "    </tr>\n",
       "    <tr>\n",
       "      <th>1334</th>\n",
       "      <td>18</td>\n",
       "      <td>31.920</td>\n",
       "      <td>0</td>\n",
       "      <td>2205.98080</td>\n",
       "      <td>1</td>\n",
       "      <td>0</td>\n",
       "      <td>1</td>\n",
       "      <td>0</td>\n",
       "      <td>1</td>\n",
       "      <td>0</td>\n",
       "      <td>0</td>\n",
       "      <td>0</td>\n",
       "      <td>1</td>\n",
       "      <td>0</td>\n",
       "      <td>0</td>\n",
       "      <td>0</td>\n",
       "    </tr>\n",
       "    <tr>\n",
       "      <th>1335</th>\n",
       "      <td>18</td>\n",
       "      <td>36.850</td>\n",
       "      <td>0</td>\n",
       "      <td>1629.83350</td>\n",
       "      <td>1</td>\n",
       "      <td>0</td>\n",
       "      <td>1</td>\n",
       "      <td>0</td>\n",
       "      <td>0</td>\n",
       "      <td>0</td>\n",
       "      <td>1</td>\n",
       "      <td>0</td>\n",
       "      <td>1</td>\n",
       "      <td>0</td>\n",
       "      <td>0</td>\n",
       "      <td>0</td>\n",
       "    </tr>\n",
       "    <tr>\n",
       "      <th>1336</th>\n",
       "      <td>21</td>\n",
       "      <td>25.800</td>\n",
       "      <td>0</td>\n",
       "      <td>2007.94500</td>\n",
       "      <td>1</td>\n",
       "      <td>0</td>\n",
       "      <td>1</td>\n",
       "      <td>0</td>\n",
       "      <td>0</td>\n",
       "      <td>0</td>\n",
       "      <td>0</td>\n",
       "      <td>1</td>\n",
       "      <td>1</td>\n",
       "      <td>0</td>\n",
       "      <td>0</td>\n",
       "      <td>0</td>\n",
       "    </tr>\n",
       "    <tr>\n",
       "      <th>1337</th>\n",
       "      <td>61</td>\n",
       "      <td>29.070</td>\n",
       "      <td>0</td>\n",
       "      <td>29141.36030</td>\n",
       "      <td>1</td>\n",
       "      <td>0</td>\n",
       "      <td>0</td>\n",
       "      <td>1</td>\n",
       "      <td>0</td>\n",
       "      <td>1</td>\n",
       "      <td>0</td>\n",
       "      <td>0</td>\n",
       "      <td>0</td>\n",
       "      <td>0</td>\n",
       "      <td>0</td>\n",
       "      <td>1</td>\n",
       "    </tr>\n",
       "  </tbody>\n",
       "</table>\n",
       "<p>1338 rows × 16 columns</p>\n",
       "</div>"
      ],
      "text/plain": [
       "      age     bmi  children      charges  sex_female  sex_male  smoker_no  \\\n",
       "0      19  27.900         0  16884.92400           1         0          0   \n",
       "1      18  33.770         1   1725.55230           0         1          1   \n",
       "2      28  33.000         3   4449.46200           0         1          1   \n",
       "3      33  22.705         0  21984.47061           0         1          1   \n",
       "4      32  28.880         0   3866.85520           0         1          1   \n",
       "...   ...     ...       ...          ...         ...       ...        ...   \n",
       "1333   50  30.970         3  10600.54830           0         1          1   \n",
       "1334   18  31.920         0   2205.98080           1         0          1   \n",
       "1335   18  36.850         0   1629.83350           1         0          1   \n",
       "1336   21  25.800         0   2007.94500           1         0          1   \n",
       "1337   61  29.070         0  29141.36030           1         0          0   \n",
       "\n",
       "      smoker_yes  region_northeast  region_northwest  region_southeast  \\\n",
       "0              1                 0                 0                 0   \n",
       "1              0                 0                 0                 1   \n",
       "2              0                 0                 0                 1   \n",
       "3              0                 0                 1                 0   \n",
       "4              0                 0                 1                 0   \n",
       "...          ...               ...               ...               ...   \n",
       "1333           0                 0                 1                 0   \n",
       "1334           0                 1                 0                 0   \n",
       "1335           0                 0                 0                 1   \n",
       "1336           0                 0                 0                 0   \n",
       "1337           1                 0                 1                 0   \n",
       "\n",
       "      region_southwest  age_group_18-30  age_group_31-40  age_group_41-50  \\\n",
       "0                    1                1                0                0   \n",
       "1                    0                1                0                0   \n",
       "2                    0                1                0                0   \n",
       "3                    0                0                1                0   \n",
       "4                    0                0                1                0   \n",
       "...                ...              ...              ...              ...   \n",
       "1333                 0                0                0                1   \n",
       "1334                 0                1                0                0   \n",
       "1335                 0                1                0                0   \n",
       "1336                 1                1                0                0   \n",
       "1337                 0                0                0                0   \n",
       "\n",
       "      age_group_51-64  \n",
       "0                   0  \n",
       "1                   0  \n",
       "2                   0  \n",
       "3                   0  \n",
       "4                   0  \n",
       "...               ...  \n",
       "1333                0  \n",
       "1334                0  \n",
       "1335                0  \n",
       "1336                0  \n",
       "1337                1  \n",
       "\n",
       "[1338 rows x 16 columns]"
      ]
     },
     "execution_count": 131,
     "metadata": {},
     "output_type": "execute_result"
    }
   ],
   "source": [
    "pd.get_dummies(df_raw)"
   ]
  },
  {
   "cell_type": "markdown",
   "metadata": {},
   "source": [
    "To avoid multicollinearity, we need to drop some of the columns. When using get_dummies, we create n columns for n different groups of categorical variables. We only need to retain n-1 columns though. For example, the variable smoker has 2 groups (yes or no), so n=2. We only need to retain 1 column, because we know that a value of 0 in the smoker_yes column is the same thing as a value of 1 in the smoker_no column."
   ]
  },
  {
   "cell_type": "code",
   "execution_count": 132,
   "metadata": {},
   "outputs": [],
   "source": [
    "df_dum = pd.get_dummies(df_raw)\n",
    "df_dum.drop(['age','sex_female','smoker_no','region_northeast','age_group_18-30'], axis=1, inplace=True)"
   ]
  },
  {
   "cell_type": "markdown",
   "metadata": {},
   "source": [
    "Now we are ready to set up our linear regression model. First I will create a model using all of the variables that we have. Later on I will create a model using stepwise selection of variables."
   ]
  },
  {
   "cell_type": "code",
   "execution_count": 133,
   "metadata": {},
   "outputs": [],
   "source": [
    "X = df_dum.drop('charges', axis=1)\n",
    "y = df_dum['charges']\n",
    "\n",
    "X_train, X_test, y_train, y_test = train_test_split(X, y, test_size=0.2, random_state=13)"
   ]
  },
  {
   "cell_type": "code",
   "execution_count": 134,
   "metadata": {},
   "outputs": [
    {
     "data": {
      "text/plain": [
       "LinearRegression(copy_X=True, fit_intercept=True, n_jobs=None, normalize=False)"
      ]
     },
     "execution_count": 134,
     "metadata": {},
     "output_type": "execute_result"
    }
   ],
   "source": [
    "lm = LinearRegression()\n",
    "lm.fit(X_train,y_train)"
   ]
  },
  {
   "cell_type": "code",
   "execution_count": 135,
   "metadata": {},
   "outputs": [
    {
     "data": {
      "text/html": [
       "<div>\n",
       "<style scoped>\n",
       "    .dataframe tbody tr th:only-of-type {\n",
       "        vertical-align: middle;\n",
       "    }\n",
       "\n",
       "    .dataframe tbody tr th {\n",
       "        vertical-align: top;\n",
       "    }\n",
       "\n",
       "    .dataframe thead th {\n",
       "        text-align: right;\n",
       "    }\n",
       "</style>\n",
       "<table border=\"1\" class=\"dataframe\">\n",
       "  <thead>\n",
       "    <tr style=\"text-align: right;\">\n",
       "      <th></th>\n",
       "      <th>Coefficient</th>\n",
       "    </tr>\n",
       "  </thead>\n",
       "  <tbody>\n",
       "    <tr>\n",
       "      <th>bmi</th>\n",
       "      <td>335.143189</td>\n",
       "    </tr>\n",
       "    <tr>\n",
       "      <th>children</th>\n",
       "      <td>693.854115</td>\n",
       "    </tr>\n",
       "    <tr>\n",
       "      <th>sex_male</th>\n",
       "      <td>-33.360951</td>\n",
       "    </tr>\n",
       "    <tr>\n",
       "      <th>smoker_yes</th>\n",
       "      <td>23860.135387</td>\n",
       "    </tr>\n",
       "    <tr>\n",
       "      <th>region_northwest</th>\n",
       "      <td>-154.338024</td>\n",
       "    </tr>\n",
       "    <tr>\n",
       "      <th>region_southeast</th>\n",
       "      <td>-850.909832</td>\n",
       "    </tr>\n",
       "    <tr>\n",
       "      <th>region_southwest</th>\n",
       "      <td>-786.348715</td>\n",
       "    </tr>\n",
       "    <tr>\n",
       "      <th>age_group_31-40</th>\n",
       "      <td>1573.011663</td>\n",
       "    </tr>\n",
       "    <tr>\n",
       "      <th>age_group_41-50</th>\n",
       "      <td>4695.356890</td>\n",
       "    </tr>\n",
       "    <tr>\n",
       "      <th>age_group_51-64</th>\n",
       "      <td>8794.591921</td>\n",
       "    </tr>\n",
       "  </tbody>\n",
       "</table>\n",
       "</div>"
      ],
      "text/plain": [
       "                   Coefficient\n",
       "bmi                 335.143189\n",
       "children            693.854115\n",
       "sex_male            -33.360951\n",
       "smoker_yes        23860.135387\n",
       "region_northwest   -154.338024\n",
       "region_southeast   -850.909832\n",
       "region_southwest   -786.348715\n",
       "age_group_31-40    1573.011663\n",
       "age_group_41-50    4695.356890\n",
       "age_group_51-64    8794.591921"
      ]
     },
     "execution_count": 135,
     "metadata": {},
     "output_type": "execute_result"
    }
   ],
   "source": [
    "coeff_df = pd.DataFrame(lm.coef_,X.columns,columns=['Coefficient'])\n",
    "coeff_df"
   ]
  },
  {
   "cell_type": "markdown",
   "metadata": {},
   "source": [
    "Here we can see the coefficients for each feature. Again it appears that smoker and age are the most prominent factors. sklearn does not calculate the p-values, so we will look at p-values in our next model using the statsmodels library. Before we jump into that, let's take a look at how accurate our model is."
   ]
  },
  {
   "cell_type": "code",
   "execution_count": 136,
   "metadata": {},
   "outputs": [
    {
     "data": {
      "text/plain": [
       "<matplotlib.axes._subplots.AxesSubplot at 0x2107ba722c8>"
      ]
     },
     "execution_count": 136,
     "metadata": {},
     "output_type": "execute_result"
    },
    {
     "data": {
      "image/png": "[encoded data removed]",
      "text/plain": [
       "<Figure size 432x288 with 1 Axes>"
      ]
     },
     "metadata": {},
     "output_type": "display_data"
    }
   ],
   "source": [
    "preds = lm.predict(X_test)\n",
    "sns.regplot(y_test,preds,line_kws={'color':'black'})"
   ]
  },
  {
   "cell_type": "code",
   "execution_count": 137,
   "metadata": {},
   "outputs": [
    {
     "data": {
      "text/plain": [
       "<matplotlib.axes._subplots.AxesSubplot at 0x2107ba72088>"
      ]
     },
     "execution_count": 137,
     "metadata": {},
     "output_type": "execute_result"
    },
    {
     "data": {
      "image/png": "[encoded data removed]",
      "text/plain": [
       "<Figure size 432x288 with 1 Axes>"
      ]
     },
     "metadata": {},
     "output_type": "display_data"
    }
   ],
   "source": [
    "sns.distplot((y_test-preds),bins=50)"
   ]
  },
  {
   "cell_type": "code",
   "execution_count": 138,
   "metadata": {},
   "outputs": [
    {
     "name": "stdout",
     "output_type": "stream",
     "text": [
      "MAE: 3761.114715734699\n",
      "MSE: 28737358.780067686\n",
      "RMSE: 5360.723717938436\n"
     ]
    }
   ],
   "source": [
    "print('MAE:', metrics.mean_absolute_error(y_test, preds))\n",
    "print('MSE:', metrics.mean_squared_error(y_test, preds))\n",
    "print('RMSE:', np.sqrt(metrics.mean_squared_error(y_test, preds)))\n",
    "\n",
    "RMSEs = []\n",
    "RMSEs.append(np.sqrt(metrics.mean_squared_error(y_test, preds)))"
   ]
  },
  {
   "cell_type": "markdown",
   "metadata": {},
   "source": [
    "We definitely have some variance in the residuals using this model. Ideally, the scatterplot above would show a strong correlation and would be as straight of a line as possible. The residuals appear to be centered around 0 or slightly less than 0, with some right skew present in the distribution. Our root mean squared error using this model is 5360, which I would say is not a very accurate model considering the median charge of $9,360. Let's try another model using stepwise selection of variables."
   ]
  },
  {
   "cell_type": "markdown",
   "metadata": {},
   "source": [
    "Since scikit-learn does not have a method for stepwise selection, we will have to create our own function. Luckily, there are plenty of resources on the web to help us. I found this function below on [StackOverflow](https://datascience.stackexchange.com/questions/24405/how-to-do-stepwise-regression-using-sklearn/24447#24447)."
   ]
  },
  {
   "cell_type": "code",
   "execution_count": 210,
   "metadata": {},
   "outputs": [
    {
     "name": "stderr",
     "output_type": "stream",
     "text": [
      "C:\\Users\\Tristan\\anaconda3\\lib\\site-packages\\ipykernel_launcher.py:29: DeprecationWarning:\n",
      "\n",
      "The default dtype for empty Series will be 'object' instead of 'float64' in a future version. Specify a dtype explicitly to silence this warning.\n",
      "\n"
     ]
    },
    {
     "name": "stdout",
     "output_type": "stream",
     "text": [
      "Add  smoker_yes                     with p-value 8.27144e-283\n",
      "Add  age_group_51-64                with p-value 3.07625e-63\n",
      "Add  bmi                            with p-value 6.15929e-30\n",
      "Add  age_group_41-50                with p-value 3.00725e-21\n",
      "Add  children                       with p-value 1.12867e-07\n",
      "Add  age_group_31-40                with p-value 0.000387584\n",
      "resulting features:\n",
      "['smoker_yes', 'age_group_51-64', 'bmi', 'age_group_41-50', 'children', 'age_group_31-40']\n"
     ]
    }
   ],
   "source": [
    "import statsmodels.api as sm\n",
    "\n",
    "data = df_dum\n",
    "X = df_dum.drop('charges', axis=1)\n",
    "y = df_dum['charges']\n",
    "\n",
    "\n",
    "def stepwise_selection(X, y,\n",
    "                       threshold_in=0.01, \n",
    "                       threshold_out = 0.05, \n",
    "                       verbose=True):\n",
    "    \"\"\" Perform a forward-backward feature selection \n",
    "    based on p-value from statsmodels.api.OLS\n",
    "    Arguments:\n",
    "        X - pandas.DataFrame with candidate features\n",
    "        y - list-like with the target\n",
    "        threshold_in - include a feature if its p-value < threshold_in\n",
    "        threshold_out - exclude a feature if its p-value > threshold_out\n",
    "        verbose - whether to print the sequence of inclusions and exclusions\n",
    "    Returns: list of selected features \n",
    "    Always set threshold_in < threshold_out to avoid infinite looping.\n",
    "    See https://en.wikipedia.org/wiki/Stepwise_regression for the details\n",
    "    \"\"\"\n",
    "    included = []\n",
    "    while True:\n",
    "        changed=False\n",
    "        # forward step\n",
    "        excluded = list(set(X.columns)-set(included))\n",
    "        new_pval = pd.Series(index=excluded)\n",
    "        for new_column in excluded:\n",
    "            model = sm.OLS(y, sm.add_constant(pd.DataFrame(X[included+[new_column]]))).fit()\n",
    "            new_pval[new_column] = model.pvalues[new_column]\n",
    "        best_pval = new_pval.min()\n",
    "        if best_pval < threshold_in:\n",
    "            best_feature = excluded[new_pval.argmin()]\n",
    "            # below is returning a 4 instead of a column name?? should be returning 'smoker_yes'\n",
    "            included.append(best_feature)\n",
    "            changed=True\n",
    "            if verbose:\n",
    "                print('Add  {:30} with p-value {:.6}'.format(best_feature, best_pval))\n",
    "\n",
    "        # backward step\n",
    "        model = sm.OLS(y, sm.add_constant(pd.DataFrame(X[included]))).fit()\n",
    "        # use all coefs except intercept\n",
    "        pvalues = model.pvalues.iloc[1:]\n",
    "        worst_pval = pvalues.max() # null if pvalues is empty\n",
    "        if worst_pval > threshold_out:\n",
    "            changed=True\n",
    "            worst_feature = pvalues.argmax()\n",
    "            included.remove(worst_feature)\n",
    "            if verbose:\n",
    "                print('Drop {:30} with p-value {:.6}'.format(worst_feature, worst_pval))\n",
    "        if not changed:\n",
    "            break\n",
    "    return included\n",
    "\n",
    "result = stepwise_selection(X, y)\n",
    "\n",
    "print('resulting features:')\n",
    "print(result)"
   ]
  },
  {
   "cell_type": "markdown",
   "metadata": {},
   "source": [
    "Great! Now that we have our selected features, let's run the same regression as above except this time we will only use the features selected by our stepwise_selection function."
   ]
  },
  {
   "cell_type": "code",
   "execution_count": 211,
   "metadata": {},
   "outputs": [],
   "source": [
    "X = df_dum[result]\n",
    "y = df_dum['charges']\n",
    "\n",
    "X_train, X_test, y_train, y_test = train_test_split(X, y, test_size=0.2, random_state=13)"
   ]
  },
  {
   "cell_type": "code",
   "execution_count": 212,
   "metadata": {},
   "outputs": [
    {
     "data": {
      "text/plain": [
       "LinearRegression(copy_X=True, fit_intercept=True, n_jobs=None, normalize=False)"
      ]
     },
     "execution_count": 212,
     "metadata": {},
     "output_type": "execute_result"
    }
   ],
   "source": [
    "lm = LinearRegression()\n",
    "lm.fit(X_train,y_train)"
   ]
  },
  {
   "cell_type": "code",
   "execution_count": 213,
   "metadata": {},
   "outputs": [
    {
     "data": {
      "text/html": [
       "<div>\n",
       "<style scoped>\n",
       "    .dataframe tbody tr th:only-of-type {\n",
       "        vertical-align: middle;\n",
       "    }\n",
       "\n",
       "    .dataframe tbody tr th {\n",
       "        vertical-align: top;\n",
       "    }\n",
       "\n",
       "    .dataframe thead th {\n",
       "        text-align: right;\n",
       "    }\n",
       "</style>\n",
       "<table border=\"1\" class=\"dataframe\">\n",
       "  <thead>\n",
       "    <tr style=\"text-align: right;\">\n",
       "      <th></th>\n",
       "      <th>Coefficient</th>\n",
       "    </tr>\n",
       "  </thead>\n",
       "  <tbody>\n",
       "    <tr>\n",
       "      <th>smoker_yes</th>\n",
       "      <td>23844.685055</td>\n",
       "    </tr>\n",
       "    <tr>\n",
       "      <th>age_group_51-64</th>\n",
       "      <td>8830.354783</td>\n",
       "    </tr>\n",
       "    <tr>\n",
       "      <th>bmi</th>\n",
       "      <td>319.075740</td>\n",
       "    </tr>\n",
       "    <tr>\n",
       "      <th>age_group_41-50</th>\n",
       "      <td>4691.651304</td>\n",
       "    </tr>\n",
       "    <tr>\n",
       "      <th>children</th>\n",
       "      <td>699.211498</td>\n",
       "    </tr>\n",
       "    <tr>\n",
       "      <th>age_group_31-40</th>\n",
       "      <td>1567.980794</td>\n",
       "    </tr>\n",
       "  </tbody>\n",
       "</table>\n",
       "</div>"
      ],
      "text/plain": [
       "                  Coefficient\n",
       "smoker_yes       23844.685055\n",
       "age_group_51-64   8830.354783\n",
       "bmi                319.075740\n",
       "age_group_41-50   4691.651304\n",
       "children           699.211498\n",
       "age_group_31-40   1567.980794"
      ]
     },
     "execution_count": 213,
     "metadata": {},
     "output_type": "execute_result"
    }
   ],
   "source": [
    "coeff_df = pd.DataFrame(lm.coef_,X.columns,columns=['Coefficient'])\n",
    "coeff_df"
   ]
  },
  {
   "cell_type": "code",
   "execution_count": 214,
   "metadata": {},
   "outputs": [
    {
     "data": {
      "text/plain": [
       "<matplotlib.axes._subplots.AxesSubplot at 0x21003b23408>"
      ]
     },
     "execution_count": 214,
     "metadata": {},
     "output_type": "execute_result"
    },
    {
     "data": {
      "image/png": "[encoded data removed]",
      "text/plain": [
       "<Figure size 432x288 with 1 Axes>"
      ]
     },
     "metadata": {},
     "output_type": "display_data"
    }
   ],
   "source": [
    "preds = lm.predict(X_test)\n",
    "sns.regplot(y_test,preds,line_kws={'color':'black'})"
   ]
  },
  {
   "cell_type": "code",
   "execution_count": 144,
   "metadata": {},
   "outputs": [
    {
     "data": {
      "text/plain": [
       "<matplotlib.axes._subplots.AxesSubplot at 0x2107bd5a108>"
      ]
     },
     "execution_count": 144,
     "metadata": {},
     "output_type": "execute_result"
    },
    {
     "data": {
      "image/png": "[encoded data removed]",
      "text/plain": [
       "<Figure size 432x288 with 1 Axes>"
      ]
     },
     "metadata": {},
     "output_type": "display_data"
    }
   ],
   "source": [
    "sns.distplot((y_test-preds),bins=50)"
   ]
  },
  {
   "cell_type": "code",
   "execution_count": 145,
   "metadata": {},
   "outputs": [
    {
     "name": "stdout",
     "output_type": "stream",
     "text": [
      "MAE: 3799.9515390877314\n",
      "MSE: 29052756.271343537\n",
      "RMSE: 5390.060878259496\n"
     ]
    }
   ],
   "source": [
    "print('MAE:', metrics.mean_absolute_error(y_test, preds))\n",
    "print('MSE:', metrics.mean_squared_error(y_test, preds))\n",
    "print('RMSE:', np.sqrt(metrics.mean_squared_error(y_test, preds)))\n",
    "\n",
    "RMSEs.append(np.sqrt(metrics.mean_squared_error(y_test, preds)))"
   ]
  },
  {
   "cell_type": "markdown",
   "metadata": {},
   "source": [
    "Our new model is actually slightly less accurate than our original one. Let's move on to predicting whether or not someone is a smoker. This should be a much more accurate model given that we know the charges for a smoker are significantly more than a non-smoker."
   ]
  },
  {
   "cell_type": "markdown",
   "metadata": {},
   "source": [
    "### Machine Learning"
   ]
  },
  {
   "cell_type": "markdown",
   "metadata": {},
   "source": [
    "There are a number of different models that we could try. For this analysis I will focus on a random forest and an xgboost model. Let's start with a random forest. For more information on what a random forest is and how it works, check out this [article](https://towardsdatascience.com/understanding-random-forest-58381e0602d2#:~:text=The%20random%20forest%20is%20a,that%20of%20any%20individual%20tree.)."
   ]
  },
  {
   "cell_type": "code",
   "execution_count": 146,
   "metadata": {},
   "outputs": [],
   "source": [
    "from sklearn.model_selection import train_test_split, KFold, cross_validate, cross_val_score\n",
    "from sklearn.preprocessing import LabelEncoder, OneHotEncoder\n",
    "from sklearn.compose import ColumnTransformer\n",
    "from sklearn.impute import SimpleImputer\n",
    "from sklearn.pipeline import Pipeline\n",
    "from sklearn.ensemble import RandomForestClassifier\n",
    "from sklearn.metrics import accuracy_score, classification_report, confusion_matrix"
   ]
  },
  {
   "cell_type": "markdown",
   "metadata": {},
   "source": [
    "Let's revisit our original data frame before we created dummy variables. We will be using the original data for our machine learning models."
   ]
  },
  {
   "cell_type": "code",
   "execution_count": 147,
   "metadata": {},
   "outputs": [
    {
     "data": {
      "text/html": [
       "<div>\n",
       "<style scoped>\n",
       "    .dataframe tbody tr th:only-of-type {\n",
       "        vertical-align: middle;\n",
       "    }\n",
       "\n",
       "    .dataframe tbody tr th {\n",
       "        vertical-align: top;\n",
       "    }\n",
       "\n",
       "    .dataframe thead th {\n",
       "        text-align: right;\n",
       "    }\n",
       "</style>\n",
       "<table border=\"1\" class=\"dataframe\">\n",
       "  <thead>\n",
       "    <tr style=\"text-align: right;\">\n",
       "      <th></th>\n",
       "      <th>age</th>\n",
       "      <th>sex</th>\n",
       "      <th>bmi</th>\n",
       "      <th>children</th>\n",
       "      <th>smoker</th>\n",
       "      <th>region</th>\n",
       "      <th>charges</th>\n",
       "      <th>age_group</th>\n",
       "    </tr>\n",
       "  </thead>\n",
       "  <tbody>\n",
       "    <tr>\n",
       "      <th>0</th>\n",
       "      <td>19</td>\n",
       "      <td>female</td>\n",
       "      <td>27.900</td>\n",
       "      <td>0</td>\n",
       "      <td>yes</td>\n",
       "      <td>southwest</td>\n",
       "      <td>16884.92400</td>\n",
       "      <td>18-30</td>\n",
       "    </tr>\n",
       "    <tr>\n",
       "      <th>1</th>\n",
       "      <td>18</td>\n",
       "      <td>male</td>\n",
       "      <td>33.770</td>\n",
       "      <td>1</td>\n",
       "      <td>no</td>\n",
       "      <td>southeast</td>\n",
       "      <td>1725.55230</td>\n",
       "      <td>18-30</td>\n",
       "    </tr>\n",
       "    <tr>\n",
       "      <th>2</th>\n",
       "      <td>28</td>\n",
       "      <td>male</td>\n",
       "      <td>33.000</td>\n",
       "      <td>3</td>\n",
       "      <td>no</td>\n",
       "      <td>southeast</td>\n",
       "      <td>4449.46200</td>\n",
       "      <td>18-30</td>\n",
       "    </tr>\n",
       "    <tr>\n",
       "      <th>3</th>\n",
       "      <td>33</td>\n",
       "      <td>male</td>\n",
       "      <td>22.705</td>\n",
       "      <td>0</td>\n",
       "      <td>no</td>\n",
       "      <td>northwest</td>\n",
       "      <td>21984.47061</td>\n",
       "      <td>31-40</td>\n",
       "    </tr>\n",
       "    <tr>\n",
       "      <th>4</th>\n",
       "      <td>32</td>\n",
       "      <td>male</td>\n",
       "      <td>28.880</td>\n",
       "      <td>0</td>\n",
       "      <td>no</td>\n",
       "      <td>northwest</td>\n",
       "      <td>3866.85520</td>\n",
       "      <td>31-40</td>\n",
       "    </tr>\n",
       "  </tbody>\n",
       "</table>\n",
       "</div>"
      ],
      "text/plain": [
       "   age     sex     bmi  children smoker     region      charges age_group\n",
       "0   19  female  27.900         0    yes  southwest  16884.92400     18-30\n",
       "1   18    male  33.770         1     no  southeast   1725.55230     18-30\n",
       "2   28    male  33.000         3     no  southeast   4449.46200     18-30\n",
       "3   33    male  22.705         0     no  northwest  21984.47061     31-40\n",
       "4   32    male  28.880         0     no  northwest   3866.85520     31-40"
      ]
     },
     "execution_count": 147,
     "metadata": {},
     "output_type": "execute_result"
    }
   ],
   "source": [
    "df_raw.head()"
   ]
  },
  {
   "cell_type": "markdown",
   "metadata": {},
   "source": [
    "We know that the variable we are trying to predict is smoker. Before we begin preprocessing, I am going to convert this column to be numerical. After that, I will split up the variables based upon whether they are numerical or categorical. Finally, I will drop age_group."
   ]
  },
  {
   "cell_type": "code",
   "execution_count": 148,
   "metadata": {},
   "outputs": [
    {
     "data": {
      "text/html": [
       "<div>\n",
       "<style scoped>\n",
       "    .dataframe tbody tr th:only-of-type {\n",
       "        vertical-align: middle;\n",
       "    }\n",
       "\n",
       "    .dataframe tbody tr th {\n",
       "        vertical-align: top;\n",
       "    }\n",
       "\n",
       "    .dataframe thead th {\n",
       "        text-align: right;\n",
       "    }\n",
       "</style>\n",
       "<table border=\"1\" class=\"dataframe\">\n",
       "  <thead>\n",
       "    <tr style=\"text-align: right;\">\n",
       "      <th></th>\n",
       "      <th>age</th>\n",
       "      <th>sex</th>\n",
       "      <th>bmi</th>\n",
       "      <th>children</th>\n",
       "      <th>smoker</th>\n",
       "      <th>region</th>\n",
       "      <th>charges</th>\n",
       "    </tr>\n",
       "  </thead>\n",
       "  <tbody>\n",
       "    <tr>\n",
       "      <th>0</th>\n",
       "      <td>19</td>\n",
       "      <td>female</td>\n",
       "      <td>27.900</td>\n",
       "      <td>0</td>\n",
       "      <td>1</td>\n",
       "      <td>southwest</td>\n",
       "      <td>16884.92400</td>\n",
       "    </tr>\n",
       "    <tr>\n",
       "      <th>1</th>\n",
       "      <td>18</td>\n",
       "      <td>male</td>\n",
       "      <td>33.770</td>\n",
       "      <td>1</td>\n",
       "      <td>0</td>\n",
       "      <td>southeast</td>\n",
       "      <td>1725.55230</td>\n",
       "    </tr>\n",
       "    <tr>\n",
       "      <th>2</th>\n",
       "      <td>28</td>\n",
       "      <td>male</td>\n",
       "      <td>33.000</td>\n",
       "      <td>3</td>\n",
       "      <td>0</td>\n",
       "      <td>southeast</td>\n",
       "      <td>4449.46200</td>\n",
       "    </tr>\n",
       "    <tr>\n",
       "      <th>3</th>\n",
       "      <td>33</td>\n",
       "      <td>male</td>\n",
       "      <td>22.705</td>\n",
       "      <td>0</td>\n",
       "      <td>0</td>\n",
       "      <td>northwest</td>\n",
       "      <td>21984.47061</td>\n",
       "    </tr>\n",
       "    <tr>\n",
       "      <th>4</th>\n",
       "      <td>32</td>\n",
       "      <td>male</td>\n",
       "      <td>28.880</td>\n",
       "      <td>0</td>\n",
       "      <td>0</td>\n",
       "      <td>northwest</td>\n",
       "      <td>3866.85520</td>\n",
       "    </tr>\n",
       "  </tbody>\n",
       "</table>\n",
       "</div>"
      ],
      "text/plain": [
       "   age     sex     bmi  children  smoker     region      charges\n",
       "0   19  female  27.900         0       1  southwest  16884.92400\n",
       "1   18    male  33.770         1       0  southeast   1725.55230\n",
       "2   28    male  33.000         3       0  southeast   4449.46200\n",
       "3   33    male  22.705         0       0  northwest  21984.47061\n",
       "4   32    male  28.880         0       0  northwest   3866.85520"
      ]
     },
     "execution_count": 148,
     "metadata": {},
     "output_type": "execute_result"
    }
   ],
   "source": [
    "df_ml = df_raw\n",
    "df_ml['smoker'] = df_ml['smoker'].map({'yes':1,'no':0})\n",
    "df_ml.drop('age_group', axis=1, inplace=True)\n",
    "df_ml.head()"
   ]
  },
  {
   "cell_type": "markdown",
   "metadata": {},
   "source": [
    "Now we are ready to create our preprocessing pipeline for our random forest model. See the documentation [here](https://scikit-learn.org/stable/auto_examples/compose/plot_column_transformer_mixed_types.html) for the format that I will follow. I will also be performing k-fold cross validation to help control our model's bias and to make it more robust."
   ]
  },
  {
   "cell_type": "code",
   "execution_count": 149,
   "metadata": {},
   "outputs": [],
   "source": [
    "num_feats = ['age', 'bmi', 'children', 'charges']\n",
    "cat_feats = ['sex','region']\n",
    "feats = num_feats + cat_feats\n",
    "\n",
    "X = df_ml.drop('smoker', axis = 1)[feats]\n",
    "y = df_ml['smoker']\n",
    "\n",
    "num_trans = SimpleImputer(strategy='constant')\n",
    "cat_trans = Pipeline(steps=[('imputer', SimpleImputer(strategy='constant', fill_value='missing')),\n",
    "                            ('onehot', OneHotEncoder(handle_unknown = 'ignore'))])\n",
    "\n",
    "preprocessor = ColumnTransformer(\n",
    "    transformers=[\n",
    "        ('num', num_trans, num_feats),\n",
    "        ('cat', cat_trans, cat_feats)])\n",
    "\n",
    "k = 4\n",
    "ksplit = KFold(n_splits=k, shuffle=True, random_state=13)"
   ]
  },
  {
   "cell_type": "markdown",
   "metadata": {},
   "source": [
    "Let's run our model and see how accurate it is!"
   ]
  },
  {
   "cell_type": "code",
   "execution_count": 150,
   "metadata": {},
   "outputs": [
    {
     "name": "stdout",
     "output_type": "stream",
     "text": [
      "Accuracy: 0.947\n"
     ]
    }
   ],
   "source": [
    "rfc_model = Pipeline(steps=[('preprocessor', preprocessor),\n",
    "                           ('classifier', RandomForestClassifier(random_state = 13))])\n",
    "\n",
    "cross_val = cross_val_score(rfc_model, X, y, cv = ksplit, scoring='accuracy', n_jobs=-1)\n",
    "print(\"Accuracy: %.3f\" % np.mean(cross_val))"
   ]
  },
  {
   "cell_type": "markdown",
   "metadata": {},
   "source": [
    "As expected, our accurary at predicting whether or not someone is a smoker is much more accurate. Let's see if an xgboost model has even better results. Check out [this](https://xgboost.readthedocs.io/en/latest/parameter.html) article or [this](https://www.datacamp.com/community/tutorials/xgboost-in-python) one to read about the basics of the model. Note that since we are not running a preprocessing pipeline I will use the df with the categorical variables as dummy variables (df_dum)."
   ]
  },
  {
   "cell_type": "code",
   "execution_count": 151,
   "metadata": {},
   "outputs": [],
   "source": [
    "import xgboost as xgb"
   ]
  },
  {
   "cell_type": "code",
   "execution_count": 152,
   "metadata": {},
   "outputs": [],
   "source": [
    "X = df_dum.drop('smoker_yes', axis=1)\n",
    "y = df_dum['smoker_yes']\n",
    "xgb_matrix = xgb.DMatrix(data=X,label=y)\n",
    "\n",
    "X_train, X_test, y_train, y_test = train_test_split(X, y, test_size=0.2, random_state=13)"
   ]
  },
  {
   "cell_type": "markdown",
   "metadata": {},
   "source": [
    "The two cells below can be executed to perform cross validation (CV) for our model and see the results. I could not figure out how to view the tree diagram or see the feature importances using this method, so I will also use the method without CV."
   ]
  },
  {
   "cell_type": "code",
   "execution_count": 153,
   "metadata": {},
   "outputs": [],
   "source": [
    "params = {\"objective\":\"binary:logistic\",'colsample_bytree': 0.8,'learning_rate': 0.1,'subsample': 0.8,\n",
    "          'max_depth': 10, 'alpha': 1}\n",
    "\n",
    "cv_results = xgb.cv(dtrain=xgb_matrix, params=params, nfold=4,num_boost_round=100,early_stopping_rounds=5,\n",
    "                    metrics=\"error\", as_pandas=True, seed=13)"
   ]
  },
  {
   "cell_type": "code",
   "execution_count": 154,
   "metadata": {},
   "outputs": [
    {
     "data": {
      "text/html": [
       "<div>\n",
       "<style scoped>\n",
       "    .dataframe tbody tr th:only-of-type {\n",
       "        vertical-align: middle;\n",
       "    }\n",
       "\n",
       "    .dataframe tbody tr th {\n",
       "        vertical-align: top;\n",
       "    }\n",
       "\n",
       "    .dataframe thead th {\n",
       "        text-align: right;\n",
       "    }\n",
       "</style>\n",
       "<table border=\"1\" class=\"dataframe\">\n",
       "  <thead>\n",
       "    <tr style=\"text-align: right;\">\n",
       "      <th></th>\n",
       "      <th>train-error-mean</th>\n",
       "      <th>train-error-std</th>\n",
       "      <th>test-error-mean</th>\n",
       "      <th>test-error-std</th>\n",
       "    </tr>\n",
       "  </thead>\n",
       "  <tbody>\n",
       "    <tr>\n",
       "      <th>0</th>\n",
       "      <td>0.033881</td>\n",
       "      <td>0.001717</td>\n",
       "      <td>0.049332</td>\n",
       "      <td>0.016725</td>\n",
       "    </tr>\n",
       "    <tr>\n",
       "      <th>1</th>\n",
       "      <td>0.030394</td>\n",
       "      <td>0.001495</td>\n",
       "      <td>0.043344</td>\n",
       "      <td>0.011260</td>\n",
       "    </tr>\n",
       "    <tr>\n",
       "      <th>2</th>\n",
       "      <td>0.028899</td>\n",
       "      <td>0.003156</td>\n",
       "      <td>0.044834</td>\n",
       "      <td>0.012107</td>\n",
       "    </tr>\n",
       "    <tr>\n",
       "      <th>3</th>\n",
       "      <td>0.026656</td>\n",
       "      <td>0.004127</td>\n",
       "      <td>0.042600</td>\n",
       "      <td>0.011446</td>\n",
       "    </tr>\n",
       "    <tr>\n",
       "      <th>4</th>\n",
       "      <td>0.028401</td>\n",
       "      <td>0.005570</td>\n",
       "      <td>0.047082</td>\n",
       "      <td>0.006086</td>\n",
       "    </tr>\n",
       "  </tbody>\n",
       "</table>\n",
       "</div>"
      ],
      "text/plain": [
       "   train-error-mean  train-error-std  test-error-mean  test-error-std\n",
       "0          0.033881         0.001717         0.049332        0.016725\n",
       "1          0.030394         0.001495         0.043344        0.011260\n",
       "2          0.028899         0.003156         0.044834        0.012107\n",
       "3          0.026656         0.004127         0.042600        0.011446\n",
       "4          0.028401         0.005570         0.047082        0.006086"
      ]
     },
     "execution_count": 154,
     "metadata": {},
     "output_type": "execute_result"
    }
   ],
   "source": [
    "cv_results.head()"
   ]
  },
  {
   "cell_type": "markdown",
   "metadata": {},
   "source": [
    "Here is the method without CV."
   ]
  },
  {
   "cell_type": "code",
   "execution_count": 155,
   "metadata": {},
   "outputs": [
    {
     "name": "stdout",
     "output_type": "stream",
     "text": [
      "              precision    recall  f1-score   support\n",
      "\n",
      "           0       0.99      0.98      0.99       211\n",
      "           1       0.93      0.96      0.95        57\n",
      "\n",
      "    accuracy                           0.98       268\n",
      "   macro avg       0.96      0.97      0.97       268\n",
      "weighted avg       0.98      0.98      0.98       268\n",
      "\n"
     ]
    }
   ],
   "source": [
    "xgb_model = xgb.XGBClassifier(objective='binary:logistic',colsample_bytree = 0.8,learning_rate = 0.1,subsample = 0.8,\n",
    "                              max_depth = 10,alpha = 1,n_estimators=10)\n",
    "xgb_model.fit(X_train,y_train)\n",
    "preds = xgb_model.predict(X_test)\n",
    "\n",
    "print(classification_report(y_test,preds))"
   ]
  },
  {
   "cell_type": "markdown",
   "metadata": {},
   "source": [
    "As we can see, the XGBoost model performed even better than just our Random Forest, with an accuracy of 98%! One of my favorite features about XGBoost is being able to easily see which features were most important and also being able to visualize the tree diagram. This helps to interpret the model, which is extremely important."
   ]
  },
  {
   "cell_type": "code",
   "execution_count": 156,
   "metadata": {},
   "outputs": [
    {
     "data": {
      "text/plain": [
       "<matplotlib.axes._subplots.AxesSubplot at 0x2107bec4408>"
      ]
     },
     "execution_count": 156,
     "metadata": {},
     "output_type": "execute_result"
    },
    {
     "data": {
      "image/png": "[encoded data removed]",
      "text/plain": [
       "<Figure size 432x288 with 1 Axes>"
      ]
     },
     "metadata": {},
     "output_type": "display_data"
    }
   ],
   "source": [
    "xgb.plot_importance(xgb_model)"
   ]
  },
  {
   "cell_type": "markdown",
   "metadata": {},
   "source": [
    "As expected, charges was the most important feature to predict whether or not the person was a smoker. We can see that bmi was also an important factor."
   ]
  },
  {
   "cell_type": "code",
   "execution_count": 157,
   "metadata": {},
   "outputs": [
    {
     "name": "stderr",
     "output_type": "stream",
     "text": [
      "C:\\Users\\Tristan\\anaconda3\\lib\\site-packages\\ipykernel_launcher.py:4: UserWarning:\n",
      "\n",
      "Matplotlib is currently using module://ipykernel.pylab.backend_inline, which is a non-GUI backend, so cannot show the figure.\n",
      "\n"
     ]
    },
    {
     "data": {
      "image/png": "[encoded data removed]",
      "text/plain": [
       "<Figure size 6480x4320 with 1 Axes>"
      ]
     },
     "metadata": {},
     "output_type": "display_data"
    }
   ],
   "source": [
    "xgb.plot_tree(xgb_model,num_trees=2) # use rankdir='LR' for a horizontal tree\n",
    "fig = plt.gcf()\n",
    "fig.set_size_inches(90, 60)\n",
    "fig.show()"
   ]
  },
  {
   "cell_type": "markdown",
   "metadata": {},
   "source": [
    "And now we have a visualization of our tree model and how it is making decisions. Note that the top two layers use charges. Tree diagrams work by finding the feature that most explains the variability in the data first and then working it's way down. The fact that charges is the feature that is used for decisions in the first two layers just shows us again how important it is in this dataset."
   ]
  },
  {
   "cell_type": "markdown",
   "metadata": {},
   "source": [
    "We were able to accurately predict the smoker label with both of our models. Now we will move on to creating a neural network to hopefully predict the charges variable more accurately than our previous regression models."
   ]
  },
  {
   "cell_type": "markdown",
   "metadata": {},
   "source": [
    "### Deep Learning"
   ]
  },
  {
   "cell_type": "markdown",
   "metadata": {},
   "source": [
    "Neural networks, which are the structure of deep learning, are a truly fascinating concept. We are basically going to create a brain for the computer, give it some guidelines on how to quantify accuracy, and then let it think and find the best route to a solution. For a more thorough explanation, see [this](https://news.mit.edu/2017/explained-neural-networks-deep-learning-0414)."
   ]
  },
  {
   "cell_type": "code",
   "execution_count": 158,
   "metadata": {},
   "outputs": [],
   "source": [
    "import tensorflow as tf\n",
    "from keras.models import Sequential\n",
    "from keras.layers import Dense\n",
    "from keras.wrappers.scikit_learn import KerasRegressor\n",
    "from sklearn.preprocessing import StandardScaler\n",
    "from tensorflow.keras.callbacks import EarlyStopping"
   ]
  },
  {
   "cell_type": "code",
   "execution_count": 159,
   "metadata": {},
   "outputs": [],
   "source": [
    "X = df_dum.drop('charges', axis=1)\n",
    "y = df_dum['charges']\n",
    "\n",
    "X_train, X_test, y_train, y_test = train_test_split(X, y, test_size=0.2, random_state=13)"
   ]
  },
  {
   "cell_type": "markdown",
   "metadata": {},
   "source": [
    "We'll make a couple of different neural networks and see how they compare to our original linear model. Note that we have 10 input columns (X), so we will need the same amount of nodes for our input layer."
   ]
  },
  {
   "cell_type": "code",
   "execution_count": 181,
   "metadata": {},
   "outputs": [
    {
     "name": "stdout",
     "output_type": "stream",
     "text": [
      "Epoch 1/500\n",
      "107/107 - 0s - loss: 328944096.0000 - val_loss: 296665440.0000\n",
      "Epoch 2/500\n",
      "107/107 - 0s - loss: 328082848.0000 - val_loss: 295506048.0000\n",
      "Epoch 3/500\n",
      "107/107 - 0s - loss: 326215168.0000 - val_loss: 293080960.0000\n",
      "Epoch 4/500\n",
      "107/107 - 0s - loss: 322560160.0000 - val_loss: 288644224.0000\n",
      "Epoch 5/500\n",
      "107/107 - 0s - loss: 316471360.0000 - val_loss: 281654560.0000\n",
      "Epoch 6/500\n",
      "107/107 - 0s - loss: 307612736.0000 - val_loss: 272002272.0000\n",
      "Epoch 7/500\n",
      "107/107 - 0s - loss: 295767648.0000 - val_loss: 259895504.0000\n",
      "Epoch 8/500\n",
      "107/107 - 0s - loss: 281213888.0000 - val_loss: 245236640.0000\n",
      "Epoch 9/500\n",
      "107/107 - 0s - loss: 264351760.0000 - val_loss: 229117760.0000\n",
      "Epoch 10/500\n",
      "107/107 - 0s - loss: 246002192.0000 - val_loss: 211873856.0000\n",
      "Epoch 11/500\n",
      "107/107 - 0s - loss: 227073904.0000 - val_loss: 194940320.0000\n",
      "Epoch 12/500\n",
      "107/107 - 0s - loss: 208794288.0000 - val_loss: 179035264.0000\n",
      "Epoch 13/500\n",
      "107/107 - 0s - loss: 191904752.0000 - val_loss: 165280560.0000\n",
      "Epoch 14/500\n",
      "107/107 - 0s - loss: 177173488.0000 - val_loss: 153907568.0000\n",
      "Epoch 15/500\n",
      "107/107 - 0s - loss: 165010720.0000 - val_loss: 145108000.0000\n",
      "Epoch 16/500\n",
      "107/107 - 0s - loss: 155694672.0000 - val_loss: 138590448.0000\n",
      "Epoch 17/500\n",
      "107/107 - 0s - loss: 148994448.0000 - val_loss: 134632624.0000\n",
      "Epoch 18/500\n",
      "107/107 - 0s - loss: 144423024.0000 - val_loss: 132230040.0000\n",
      "Epoch 19/500\n",
      "107/107 - 0s - loss: 141583712.0000 - val_loss: 131023640.0000\n",
      "Epoch 20/500\n",
      "107/107 - 0s - loss: 139884256.0000 - val_loss: 130460776.0000\n",
      "Epoch 21/500\n",
      "107/107 - 0s - loss: 138921040.0000 - val_loss: 130268224.0000\n",
      "Epoch 22/500\n",
      "107/107 - 0s - loss: 138309072.0000 - val_loss: 130209456.0000\n",
      "Epoch 23/500\n",
      "107/107 - 0s - loss: 137927120.0000 - val_loss: 130237288.0000\n",
      "Epoch 24/500\n",
      "107/107 - 0s - loss: 137629968.0000 - val_loss: 130210280.0000\n",
      "Epoch 25/500\n",
      "107/107 - 0s - loss: 137435712.0000 - val_loss: 130185672.0000\n",
      "Epoch 26/500\n",
      "107/107 - 0s - loss: 137282976.0000 - val_loss: 130125240.0000\n",
      "Epoch 27/500\n",
      "107/107 - 0s - loss: 137147808.0000 - val_loss: 130101464.0000\n",
      "Epoch 28/500\n",
      "107/107 - 0s - loss: 137025104.0000 - val_loss: 130015632.0000\n",
      "Epoch 29/500\n",
      "107/107 - 0s - loss: 136906992.0000 - val_loss: 129869000.0000\n",
      "Epoch 30/500\n",
      "107/107 - 0s - loss: 136770400.0000 - val_loss: 129795472.0000\n",
      "Epoch 31/500\n",
      "107/107 - 0s - loss: 136649376.0000 - val_loss: 129715856.0000\n",
      "Epoch 32/500\n",
      "107/107 - 0s - loss: 136523792.0000 - val_loss: 129714256.0000\n",
      "Epoch 33/500\n",
      "107/107 - 0s - loss: 136369872.0000 - val_loss: 129539160.0000\n",
      "Epoch 34/500\n",
      "107/107 - 0s - loss: 136272240.0000 - val_loss: 129377952.0000\n",
      "Epoch 35/500\n",
      "107/107 - 0s - loss: 136126992.0000 - val_loss: 129243216.0000\n",
      "Epoch 36/500\n",
      "107/107 - 0s - loss: 136070944.0000 - val_loss: 129190208.0000\n",
      "Epoch 37/500\n",
      "107/107 - 0s - loss: 135946192.0000 - val_loss: 129023280.0000\n",
      "Epoch 38/500\n",
      "107/107 - 0s - loss: 135786896.0000 - val_loss: 128938736.0000\n",
      "Epoch 39/500\n",
      "107/107 - 0s - loss: 135629840.0000 - val_loss: 128785240.0000\n",
      "Epoch 40/500\n",
      "107/107 - 0s - loss: 135508768.0000 - val_loss: 128630704.0000\n",
      "Epoch 41/500\n",
      "107/107 - 0s - loss: 135380656.0000 - val_loss: 128588296.0000\n",
      "Epoch 42/500\n",
      "107/107 - 0s - loss: 135237088.0000 - val_loss: 128425896.0000\n",
      "Epoch 43/500\n",
      "107/107 - 0s - loss: 135159632.0000 - val_loss: 128292056.0000\n",
      "Epoch 44/500\n",
      "107/107 - 0s - loss: 135010832.0000 - val_loss: 128204264.0000\n",
      "Epoch 45/500\n",
      "107/107 - 0s - loss: 134875664.0000 - val_loss: 128032352.0000\n",
      "Epoch 46/500\n",
      "107/107 - 0s - loss: 134771088.0000 - val_loss: 127970552.0000\n",
      "Epoch 47/500\n",
      "107/107 - 0s - loss: 134622256.0000 - val_loss: 127807376.0000\n",
      "Epoch 48/500\n",
      "107/107 - 0s - loss: 134495632.0000 - val_loss: 127683304.0000\n",
      "Epoch 49/500\n",
      "107/107 - 0s - loss: 134363600.0000 - val_loss: 127563280.0000\n",
      "Epoch 50/500\n",
      "107/107 - 0s - loss: 134251568.0000 - val_loss: 127463832.0000\n",
      "Epoch 51/500\n",
      "107/107 - 0s - loss: 134110816.0000 - val_loss: 127335912.0000\n",
      "Epoch 52/500\n",
      "107/107 - 0s - loss: 133971696.0000 - val_loss: 127218464.0000\n",
      "Epoch 53/500\n",
      "107/107 - 0s - loss: 133865976.0000 - val_loss: 127054560.0000\n",
      "Epoch 54/500\n",
      "107/107 - 0s - loss: 133760432.0000 - val_loss: 126983776.0000\n",
      "Epoch 55/500\n",
      "107/107 - 0s - loss: 133582016.0000 - val_loss: 126775920.0000\n",
      "Epoch 56/500\n",
      "107/107 - 0s - loss: 133478304.0000 - val_loss: 126679192.0000\n",
      "Epoch 57/500\n",
      "107/107 - 0s - loss: 133376360.0000 - val_loss: 126528024.0000\n",
      "Epoch 58/500\n",
      "107/107 - 0s - loss: 133206744.0000 - val_loss: 126468520.0000\n",
      "Epoch 59/500\n",
      "107/107 - 0s - loss: 133058112.0000 - val_loss: 126284640.0000\n",
      "Epoch 60/500\n",
      "107/107 - 0s - loss: 132940912.0000 - val_loss: 126114056.0000\n",
      "Epoch 61/500\n",
      "107/107 - 0s - loss: 132787760.0000 - val_loss: 126074016.0000\n",
      "Epoch 62/500\n",
      "107/107 - 0s - loss: 132650040.0000 - val_loss: 125925568.0000\n",
      "Epoch 63/500\n",
      "107/107 - 0s - loss: 132545440.0000 - val_loss: 125706872.0000\n",
      "Epoch 64/500\n",
      "107/107 - 0s - loss: 132434936.0000 - val_loss: 125679264.0000\n",
      "Epoch 65/500\n",
      "107/107 - 0s - loss: 132287552.0000 - val_loss: 125492216.0000\n",
      "Epoch 66/500\n",
      "107/107 - 0s - loss: 132128784.0000 - val_loss: 125304160.0000\n",
      "Epoch 67/500\n",
      "107/107 - 0s - loss: 131959704.0000 - val_loss: 125295656.0000\n",
      "Epoch 68/500\n",
      "107/107 - 0s - loss: 131860992.0000 - val_loss: 125140360.0000\n",
      "Epoch 69/500\n",
      "107/107 - 0s - loss: 131707640.0000 - val_loss: 125000816.0000\n",
      "Epoch 70/500\n",
      "107/107 - 0s - loss: 131582080.0000 - val_loss: 124902008.0000\n",
      "Epoch 71/500\n",
      "107/107 - 0s - loss: 131431648.0000 - val_loss: 124692832.0000\n",
      "Epoch 72/500\n",
      "107/107 - 0s - loss: 131318680.0000 - val_loss: 124554896.0000\n",
      "Epoch 73/500\n",
      "107/107 - 0s - loss: 131149728.0000 - val_loss: 124399960.0000\n",
      "Epoch 74/500\n",
      "107/107 - 0s - loss: 131030768.0000 - val_loss: 124300712.0000\n",
      "Epoch 75/500\n",
      "107/107 - 0s - loss: 130842336.0000 - val_loss: 124078472.0000\n",
      "Epoch 76/500\n",
      "107/107 - 0s - loss: 130738712.0000 - val_loss: 124021584.0000\n",
      "Epoch 77/500\n",
      "107/107 - 0s - loss: 130559808.0000 - val_loss: 123846512.0000\n",
      "Epoch 78/500\n",
      "107/107 - 0s - loss: 130424664.0000 - val_loss: 123604216.0000\n",
      "Epoch 79/500\n",
      "107/107 - 0s - loss: 130253072.0000 - val_loss: 123548416.0000\n",
      "Epoch 80/500\n",
      "107/107 - 0s - loss: 130153136.0000 - val_loss: 123490776.0000\n",
      "Epoch 81/500\n",
      "107/107 - 0s - loss: 129978776.0000 - val_loss: 123238184.0000\n",
      "Epoch 82/500\n",
      "107/107 - 0s - loss: 129820032.0000 - val_loss: 123131104.0000\n",
      "Epoch 83/500\n",
      "107/107 - 0s - loss: 129654936.0000 - val_loss: 122995992.0000\n",
      "Epoch 84/500\n",
      "107/107 - 0s - loss: 129526744.0000 - val_loss: 122878336.0000\n",
      "Epoch 85/500\n",
      "107/107 - 0s - loss: 129390144.0000 - val_loss: 122702784.0000\n",
      "Epoch 86/500\n",
      "107/107 - 0s - loss: 129223272.0000 - val_loss: 122552504.0000\n",
      "Epoch 87/500\n",
      "107/107 - 0s - loss: 129059096.0000 - val_loss: 122393872.0000\n",
      "Epoch 88/500\n",
      "107/107 - 0s - loss: 128955784.0000 - val_loss: 122273608.0000\n",
      "Epoch 89/500\n",
      "107/107 - 0s - loss: 128779584.0000 - val_loss: 122066000.0000\n",
      "Epoch 90/500\n",
      "107/107 - 0s - loss: 128597968.0000 - val_loss: 121915136.0000\n",
      "Epoch 91/500\n",
      "107/107 - 0s - loss: 128440472.0000 - val_loss: 121767568.0000\n",
      "Epoch 92/500\n",
      "107/107 - 0s - loss: 128295088.0000 - val_loss: 121608936.0000\n",
      "Epoch 93/500\n",
      "107/107 - 0s - loss: 128139400.0000 - val_loss: 121440088.0000\n",
      "Epoch 94/500\n",
      "107/107 - 0s - loss: 127979424.0000 - val_loss: 121280632.0000\n",
      "Epoch 95/500\n",
      "107/107 - 0s - loss: 127804080.0000 - val_loss: 121144216.0000\n",
      "Epoch 96/500\n",
      "107/107 - 0s - loss: 127623528.0000 - val_loss: 120994488.0000\n",
      "Epoch 97/500\n",
      "107/107 - 0s - loss: 127486872.0000 - val_loss: 120794064.0000\n",
      "Epoch 98/500\n",
      "107/107 - 0s - loss: 127310464.0000 - val_loss: 120666656.0000\n",
      "Epoch 99/500\n",
      "107/107 - 0s - loss: 127128192.0000 - val_loss: 120474880.0000\n",
      "Epoch 100/500\n",
      "107/107 - 0s - loss: 126954744.0000 - val_loss: 120339424.0000\n",
      "Epoch 101/500\n",
      "107/107 - 0s - loss: 126804304.0000 - val_loss: 120076864.0000\n",
      "Epoch 102/500\n",
      "107/107 - 0s - loss: 126604264.0000 - val_loss: 119930960.0000\n",
      "Epoch 103/500\n",
      "107/107 - 0s - loss: 126465536.0000 - val_loss: 119876056.0000\n",
      "Epoch 104/500\n",
      "107/107 - 0s - loss: 126266552.0000 - val_loss: 119677992.0000\n",
      "Epoch 105/500\n",
      "107/107 - 0s - loss: 126072472.0000 - val_loss: 119438944.0000\n",
      "Epoch 106/500\n",
      "107/107 - 0s - loss: 125912960.0000 - val_loss: 119197104.0000\n",
      "Epoch 107/500\n",
      "107/107 - 0s - loss: 125730144.0000 - val_loss: 119008752.0000\n",
      "Epoch 108/500\n",
      "107/107 - 0s - loss: 125545880.0000 - val_loss: 118832032.0000\n"
     ]
    },
    {
     "name": "stdout",
     "output_type": "stream",
     "text": [
      "Epoch 109/500\n",
      "107/107 - 0s - loss: 125393992.0000 - val_loss: 118715120.0000\n",
      "Epoch 110/500\n",
      "107/107 - 0s - loss: 125191688.0000 - val_loss: 118454640.0000\n",
      "Epoch 111/500\n",
      "107/107 - 0s - loss: 125006112.0000 - val_loss: 118329256.0000\n",
      "Epoch 112/500\n",
      "107/107 - 0s - loss: 124814880.0000 - val_loss: 118169712.0000\n",
      "Epoch 113/500\n",
      "107/107 - 0s - loss: 124629600.0000 - val_loss: 117980848.0000\n",
      "Epoch 114/500\n",
      "107/107 - 0s - loss: 124421424.0000 - val_loss: 117736160.0000\n",
      "Epoch 115/500\n",
      "107/107 - 0s - loss: 124240280.0000 - val_loss: 117554888.0000\n",
      "Epoch 116/500\n",
      "107/107 - 0s - loss: 124065464.0000 - val_loss: 117411560.0000\n",
      "Epoch 117/500\n",
      "107/107 - 0s - loss: 123840496.0000 - val_loss: 117125960.0000\n",
      "Epoch 118/500\n",
      "107/107 - 0s - loss: 123629432.0000 - val_loss: 116962544.0000\n",
      "Epoch 119/500\n",
      "107/107 - 0s - loss: 123442496.0000 - val_loss: 116791664.0000\n",
      "Epoch 120/500\n",
      "107/107 - 0s - loss: 123263584.0000 - val_loss: 116564800.0000\n",
      "Epoch 121/500\n",
      "107/107 - 0s - loss: 123031992.0000 - val_loss: 116373464.0000\n",
      "Epoch 122/500\n",
      "107/107 - 0s - loss: 122835512.0000 - val_loss: 116144936.0000\n",
      "Epoch 123/500\n",
      "107/107 - 0s - loss: 122639488.0000 - val_loss: 116025472.0000\n",
      "Epoch 124/500\n",
      "107/107 - 0s - loss: 122396656.0000 - val_loss: 115770400.0000\n",
      "Epoch 125/500\n",
      "107/107 - 0s - loss: 122195032.0000 - val_loss: 115596728.0000\n",
      "Epoch 126/500\n",
      "107/107 - 0s - loss: 121996960.0000 - val_loss: 115278872.0000\n",
      "Epoch 127/500\n",
      "107/107 - 0s - loss: 121765096.0000 - val_loss: 115130432.0000\n",
      "Epoch 128/500\n",
      "107/107 - 0s - loss: 121527544.0000 - val_loss: 114961552.0000\n",
      "Epoch 129/500\n",
      "107/107 - 0s - loss: 121320760.0000 - val_loss: 114680848.0000\n",
      "Epoch 130/500\n",
      "107/107 - 0s - loss: 121122272.0000 - val_loss: 114498784.0000\n",
      "Epoch 131/500\n",
      "107/107 - 0s - loss: 120881760.0000 - val_loss: 114188768.0000\n",
      "Epoch 132/500\n",
      "107/107 - 0s - loss: 120652664.0000 - val_loss: 114038112.0000\n",
      "Epoch 133/500\n",
      "107/107 - 0s - loss: 120408040.0000 - val_loss: 113769744.0000\n",
      "Epoch 134/500\n",
      "107/107 - 0s - loss: 120163088.0000 - val_loss: 113538984.0000\n",
      "Epoch 135/500\n",
      "107/107 - 0s - loss: 119939976.0000 - val_loss: 113313944.0000\n",
      "Epoch 136/500\n",
      "107/107 - 0s - loss: 119732736.0000 - val_loss: 113098920.0000\n",
      "Epoch 137/500\n",
      "107/107 - 0s - loss: 119490352.0000 - val_loss: 112839448.0000\n",
      "Epoch 138/500\n",
      "107/107 - 0s - loss: 119231768.0000 - val_loss: 112549248.0000\n",
      "Epoch 139/500\n",
      "107/107 - 0s - loss: 118968784.0000 - val_loss: 112305552.0000\n",
      "Epoch 140/500\n",
      "107/107 - 0s - loss: 118736120.0000 - val_loss: 112126024.0000\n",
      "Epoch 141/500\n",
      "107/107 - 0s - loss: 118442592.0000 - val_loss: 111756160.0000\n",
      "Epoch 142/500\n",
      "107/107 - 0s - loss: 118191976.0000 - val_loss: 111507712.0000\n",
      "Epoch 143/500\n",
      "107/107 - 0s - loss: 117949640.0000 - val_loss: 111222976.0000\n",
      "Epoch 144/500\n",
      "107/107 - 0s - loss: 117695440.0000 - val_loss: 111004232.0000\n",
      "Epoch 145/500\n",
      "107/107 - 0s - loss: 117413824.0000 - val_loss: 110752280.0000\n",
      "Epoch 146/500\n",
      "107/107 - 0s - loss: 117164080.0000 - val_loss: 110465072.0000\n",
      "Epoch 147/500\n",
      "107/107 - 0s - loss: 116874616.0000 - val_loss: 110231592.0000\n",
      "Epoch 148/500\n",
      "107/107 - 0s - loss: 116623968.0000 - val_loss: 109967184.0000\n",
      "Epoch 149/500\n",
      "107/107 - 0s - loss: 116348552.0000 - val_loss: 109714192.0000\n",
      "Epoch 150/500\n",
      "107/107 - 0s - loss: 116062744.0000 - val_loss: 109365856.0000\n",
      "Epoch 151/500\n",
      "107/107 - 0s - loss: 115767648.0000 - val_loss: 109147904.0000\n",
      "Epoch 152/500\n",
      "107/107 - 0s - loss: 115483776.0000 - val_loss: 108818280.0000\n",
      "Epoch 153/500\n",
      "107/107 - 0s - loss: 115209584.0000 - val_loss: 108560856.0000\n",
      "Epoch 154/500\n",
      "107/107 - 0s - loss: 114917544.0000 - val_loss: 108231024.0000\n",
      "Epoch 155/500\n",
      "107/107 - 0s - loss: 114607936.0000 - val_loss: 107947936.0000\n",
      "Epoch 156/500\n",
      "107/107 - 0s - loss: 114300568.0000 - val_loss: 107635072.0000\n",
      "Epoch 157/500\n",
      "107/107 - 0s - loss: 114020504.0000 - val_loss: 107350072.0000\n",
      "Epoch 158/500\n",
      "107/107 - 0s - loss: 113734544.0000 - val_loss: 107030672.0000\n",
      "Epoch 159/500\n",
      "107/107 - 0s - loss: 113420640.0000 - val_loss: 106730024.0000\n",
      "Epoch 160/500\n",
      "107/107 - 0s - loss: 113071128.0000 - val_loss: 106442400.0000\n",
      "Epoch 161/500\n",
      "107/107 - 0s - loss: 112743968.0000 - val_loss: 106079112.0000\n",
      "Epoch 162/500\n",
      "107/107 - 0s - loss: 112421256.0000 - val_loss: 105799512.0000\n",
      "Epoch 163/500\n",
      "107/107 - 0s - loss: 112086744.0000 - val_loss: 105471264.0000\n",
      "Epoch 164/500\n",
      "107/107 - 0s - loss: 111761816.0000 - val_loss: 104992088.0000\n",
      "Epoch 165/500\n",
      "107/107 - 0s - loss: 111482400.0000 - val_loss: 104794400.0000\n",
      "Epoch 166/500\n",
      "107/107 - 0s - loss: 111070680.0000 - val_loss: 104349784.0000\n",
      "Epoch 167/500\n",
      "107/107 - 0s - loss: 110724328.0000 - val_loss: 103958032.0000\n",
      "Epoch 168/500\n",
      "107/107 - 0s - loss: 110407336.0000 - val_loss: 103605920.0000\n",
      "Epoch 169/500\n",
      "107/107 - 0s - loss: 110049464.0000 - val_loss: 103230328.0000\n",
      "Epoch 170/500\n",
      "107/107 - 0s - loss: 109688880.0000 - val_loss: 102998472.0000\n",
      "Epoch 171/500\n",
      "107/107 - 0s - loss: 109295600.0000 - val_loss: 102598744.0000\n",
      "Epoch 172/500\n",
      "107/107 - 0s - loss: 108923280.0000 - val_loss: 102174432.0000\n",
      "Epoch 173/500\n",
      "107/107 - 0s - loss: 108575824.0000 - val_loss: 101819248.0000\n",
      "Epoch 174/500\n",
      "107/107 - 0s - loss: 108158864.0000 - val_loss: 101417648.0000\n",
      "Epoch 175/500\n",
      "107/107 - 0s - loss: 107783464.0000 - val_loss: 101046664.0000\n",
      "Epoch 176/500\n",
      "107/107 - 0s - loss: 107361336.0000 - val_loss: 100619168.0000\n",
      "Epoch 177/500\n",
      "107/107 - 0s - loss: 106962720.0000 - val_loss: 100246048.0000\n",
      "Epoch 178/500\n",
      "107/107 - 0s - loss: 106551656.0000 - val_loss: 99794712.0000\n",
      "Epoch 179/500\n",
      "107/107 - 0s - loss: 106161528.0000 - val_loss: 99378576.0000\n",
      "Epoch 180/500\n",
      "107/107 - 0s - loss: 105745096.0000 - val_loss: 98947448.0000\n",
      "Epoch 181/500\n",
      "107/107 - 0s - loss: 105332160.0000 - val_loss: 98446624.0000\n",
      "Epoch 182/500\n",
      "107/107 - 0s - loss: 104864056.0000 - val_loss: 98039120.0000\n",
      "Epoch 183/500\n",
      "107/107 - 0s - loss: 104457792.0000 - val_loss: 97692040.0000\n",
      "Epoch 184/500\n",
      "107/107 - 0s - loss: 104016552.0000 - val_loss: 97236736.0000\n",
      "Epoch 185/500\n",
      "107/107 - 0s - loss: 103564376.0000 - val_loss: 96683592.0000\n",
      "Epoch 186/500\n",
      "107/107 - 0s - loss: 103083240.0000 - val_loss: 96195840.0000\n",
      "Epoch 187/500\n",
      "107/107 - 0s - loss: 102653168.0000 - val_loss: 95789552.0000\n",
      "Epoch 188/500\n",
      "107/107 - 0s - loss: 102151128.0000 - val_loss: 95268616.0000\n",
      "Epoch 189/500\n",
      "107/107 - 0s - loss: 101666824.0000 - val_loss: 94736120.0000\n",
      "Epoch 190/500\n",
      "107/107 - 0s - loss: 101211512.0000 - val_loss: 94366120.0000\n",
      "Epoch 191/500\n",
      "107/107 - 0s - loss: 100715328.0000 - val_loss: 93851864.0000\n",
      "Epoch 192/500\n",
      "107/107 - 0s - loss: 100218792.0000 - val_loss: 93285720.0000\n",
      "Epoch 193/500\n",
      "107/107 - 0s - loss: 99733528.0000 - val_loss: 92818208.0000\n",
      "Epoch 194/500\n",
      "107/107 - 0s - loss: 99182840.0000 - val_loss: 92297472.0000\n",
      "Epoch 195/500\n",
      "107/107 - 0s - loss: 98700176.0000 - val_loss: 91717016.0000\n",
      "Epoch 196/500\n",
      "107/107 - 0s - loss: 98148968.0000 - val_loss: 91213256.0000\n",
      "Epoch 197/500\n",
      "107/107 - 0s - loss: 97609256.0000 - val_loss: 90662024.0000\n",
      "Epoch 198/500\n",
      "107/107 - 0s - loss: 97054584.0000 - val_loss: 90117520.0000\n",
      "Epoch 199/500\n",
      "107/107 - 0s - loss: 96546032.0000 - val_loss: 89519304.0000\n",
      "Epoch 200/500\n",
      "107/107 - 0s - loss: 95943808.0000 - val_loss: 88945480.0000\n",
      "Epoch 201/500\n",
      "107/107 - 0s - loss: 95402544.0000 - val_loss: 88365896.0000\n",
      "Epoch 202/500\n",
      "107/107 - 0s - loss: 94813016.0000 - val_loss: 87830728.0000\n",
      "Epoch 203/500\n",
      "107/107 - 0s - loss: 94274800.0000 - val_loss: 87186656.0000\n",
      "Epoch 204/500\n",
      "107/107 - 0s - loss: 93674760.0000 - val_loss: 86660304.0000\n",
      "Epoch 205/500\n",
      "107/107 - 0s - loss: 93081528.0000 - val_loss: 86089344.0000\n",
      "Epoch 206/500\n",
      "107/107 - 0s - loss: 92498576.0000 - val_loss: 85400656.0000\n",
      "Epoch 207/500\n",
      "107/107 - 0s - loss: 91858656.0000 - val_loss: 84808080.0000\n",
      "Epoch 208/500\n",
      "107/107 - 0s - loss: 91215872.0000 - val_loss: 84122696.0000\n",
      "Epoch 209/500\n",
      "107/107 - 0s - loss: 90575312.0000 - val_loss: 83403064.0000\n",
      "Epoch 210/500\n",
      "107/107 - 0s - loss: 89936280.0000 - val_loss: 82856536.0000\n",
      "Epoch 211/500\n",
      "107/107 - 0s - loss: 89269936.0000 - val_loss: 82128000.0000\n",
      "Epoch 212/500\n",
      "107/107 - 0s - loss: 88686176.0000 - val_loss: 81554520.0000\n",
      "Epoch 213/500\n",
      "107/107 - 0s - loss: 87994744.0000 - val_loss: 80803160.0000\n",
      "Epoch 214/500\n",
      "107/107 - 0s - loss: 87283304.0000 - val_loss: 80106800.0000\n",
      "Epoch 215/500\n",
      "107/107 - 0s - loss: 86638376.0000 - val_loss: 79347208.0000\n",
      "Epoch 216/500\n",
      "107/107 - 0s - loss: 85912720.0000 - val_loss: 78659104.0000\n"
     ]
    },
    {
     "name": "stdout",
     "output_type": "stream",
     "text": [
      "Epoch 217/500\n",
      "107/107 - 0s - loss: 85237776.0000 - val_loss: 77989136.0000\n",
      "Epoch 218/500\n",
      "107/107 - 0s - loss: 84531480.0000 - val_loss: 77264712.0000\n",
      "Epoch 219/500\n",
      "107/107 - 0s - loss: 83822040.0000 - val_loss: 76589984.0000\n",
      "Epoch 220/500\n",
      "107/107 - 0s - loss: 83130464.0000 - val_loss: 75778416.0000\n",
      "Epoch 221/500\n",
      "107/107 - 0s - loss: 82378832.0000 - val_loss: 75069352.0000\n",
      "Epoch 222/500\n",
      "107/107 - 0s - loss: 81638840.0000 - val_loss: 74247688.0000\n",
      "Epoch 223/500\n",
      "107/107 - 0s - loss: 80911048.0000 - val_loss: 73583752.0000\n",
      "Epoch 224/500\n",
      "107/107 - 0s - loss: 80155320.0000 - val_loss: 72809008.0000\n",
      "Epoch 225/500\n",
      "107/107 - 0s - loss: 79443112.0000 - val_loss: 71983608.0000\n",
      "Epoch 226/500\n",
      "107/107 - 0s - loss: 78670616.0000 - val_loss: 71285168.0000\n",
      "Epoch 227/500\n",
      "107/107 - 0s - loss: 77925176.0000 - val_loss: 70441008.0000\n",
      "Epoch 228/500\n",
      "107/107 - 0s - loss: 77153856.0000 - val_loss: 69667856.0000\n",
      "Epoch 229/500\n",
      "107/107 - 0s - loss: 76394784.0000 - val_loss: 68915792.0000\n",
      "Epoch 230/500\n",
      "107/107 - 0s - loss: 75623536.0000 - val_loss: 68129672.0000\n",
      "Epoch 231/500\n",
      "107/107 - 0s - loss: 74865064.0000 - val_loss: 67328872.0000\n",
      "Epoch 232/500\n",
      "107/107 - 0s - loss: 74096080.0000 - val_loss: 66522004.0000\n",
      "Epoch 233/500\n",
      "107/107 - 0s - loss: 73315920.0000 - val_loss: 65701300.0000\n",
      "Epoch 234/500\n",
      "107/107 - 0s - loss: 72522704.0000 - val_loss: 64902588.0000\n",
      "Epoch 235/500\n",
      "107/107 - 0s - loss: 71761504.0000 - val_loss: 64167492.0000\n",
      "Epoch 236/500\n",
      "107/107 - 0s - loss: 70980416.0000 - val_loss: 63380324.0000\n",
      "Epoch 237/500\n",
      "107/107 - 0s - loss: 70244512.0000 - val_loss: 62617020.0000\n",
      "Epoch 238/500\n",
      "107/107 - 0s - loss: 69482800.0000 - val_loss: 61869612.0000\n",
      "Epoch 239/500\n",
      "107/107 - 0s - loss: 68699400.0000 - val_loss: 61016508.0000\n",
      "Epoch 240/500\n",
      "107/107 - 0s - loss: 67942600.0000 - val_loss: 60329432.0000\n",
      "Epoch 241/500\n",
      "107/107 - 0s - loss: 67181384.0000 - val_loss: 59538376.0000\n",
      "Epoch 242/500\n",
      "107/107 - 0s - loss: 66429572.0000 - val_loss: 58667540.0000\n",
      "Epoch 243/500\n",
      "107/107 - 0s - loss: 65668160.0000 - val_loss: 57872892.0000\n",
      "Epoch 244/500\n",
      "107/107 - 0s - loss: 64924408.0000 - val_loss: 57150100.0000\n",
      "Epoch 245/500\n",
      "107/107 - 0s - loss: 64186568.0000 - val_loss: 56514836.0000\n",
      "Epoch 246/500\n",
      "107/107 - 0s - loss: 63480016.0000 - val_loss: 55773592.0000\n",
      "Epoch 247/500\n",
      "107/107 - 0s - loss: 62722812.0000 - val_loss: 54972168.0000\n",
      "Epoch 248/500\n",
      "107/107 - 0s - loss: 62010492.0000 - val_loss: 54309620.0000\n",
      "Epoch 249/500\n",
      "107/107 - 0s - loss: 61297820.0000 - val_loss: 53398476.0000\n",
      "Epoch 250/500\n",
      "107/107 - 0s - loss: 60599316.0000 - val_loss: 52775956.0000\n",
      "Epoch 251/500\n",
      "107/107 - 0s - loss: 59893188.0000 - val_loss: 52009092.0000\n",
      "Epoch 252/500\n",
      "107/107 - 0s - loss: 59197772.0000 - val_loss: 51317932.0000\n",
      "Epoch 253/500\n",
      "107/107 - 0s - loss: 58527336.0000 - val_loss: 50425776.0000\n",
      "Epoch 254/500\n",
      "107/107 - 0s - loss: 57848664.0000 - val_loss: 49870548.0000\n",
      "Epoch 255/500\n",
      "107/107 - 0s - loss: 57188312.0000 - val_loss: 49132452.0000\n",
      "Epoch 256/500\n",
      "107/107 - 0s - loss: 56582400.0000 - val_loss: 48465108.0000\n",
      "Epoch 257/500\n",
      "107/107 - 0s - loss: 55921144.0000 - val_loss: 48005436.0000\n",
      "Epoch 258/500\n",
      "107/107 - 0s - loss: 55293688.0000 - val_loss: 47206972.0000\n",
      "Epoch 259/500\n",
      "107/107 - 0s - loss: 54713760.0000 - val_loss: 46702852.0000\n",
      "Epoch 260/500\n",
      "107/107 - 0s - loss: 54087816.0000 - val_loss: 46101464.0000\n",
      "Epoch 261/500\n",
      "107/107 - 0s - loss: 53528696.0000 - val_loss: 45474024.0000\n",
      "Epoch 262/500\n",
      "107/107 - 0s - loss: 53007756.0000 - val_loss: 44787464.0000\n",
      "Epoch 263/500\n",
      "107/107 - 0s - loss: 52435860.0000 - val_loss: 44266912.0000\n",
      "Epoch 264/500\n",
      "107/107 - 0s - loss: 51927620.0000 - val_loss: 43875248.0000\n",
      "Epoch 265/500\n",
      "107/107 - 0s - loss: 51368876.0000 - val_loss: 43278724.0000\n",
      "Epoch 266/500\n",
      "107/107 - 0s - loss: 50878436.0000 - val_loss: 42785572.0000\n",
      "Epoch 267/500\n",
      "107/107 - 0s - loss: 50402636.0000 - val_loss: 42118360.0000\n",
      "Epoch 268/500\n",
      "107/107 - 0s - loss: 49930640.0000 - val_loss: 41578548.0000\n",
      "Epoch 269/500\n",
      "107/107 - 0s - loss: 49468536.0000 - val_loss: 41189304.0000\n",
      "Epoch 270/500\n",
      "107/107 - 0s - loss: 49054180.0000 - val_loss: 40829516.0000\n",
      "Epoch 271/500\n",
      "107/107 - 0s - loss: 48619348.0000 - val_loss: 40329516.0000\n",
      "Epoch 272/500\n",
      "107/107 - 0s - loss: 48223272.0000 - val_loss: 39951028.0000\n",
      "Epoch 273/500\n",
      "107/107 - 0s - loss: 47822960.0000 - val_loss: 39405524.0000\n",
      "Epoch 274/500\n",
      "107/107 - 0s - loss: 47467660.0000 - val_loss: 38922524.0000\n",
      "Epoch 275/500\n",
      "107/107 - 0s - loss: 47106544.0000 - val_loss: 38680408.0000\n",
      "Epoch 276/500\n",
      "107/107 - 0s - loss: 46741040.0000 - val_loss: 38257368.0000\n",
      "Epoch 277/500\n",
      "107/107 - 0s - loss: 46410336.0000 - val_loss: 37833080.0000\n",
      "Epoch 278/500\n",
      "107/107 - 0s - loss: 46132576.0000 - val_loss: 37701212.0000\n",
      "Epoch 279/500\n",
      "107/107 - 0s - loss: 45792824.0000 - val_loss: 37330512.0000\n",
      "Epoch 280/500\n",
      "107/107 - 0s - loss: 45478772.0000 - val_loss: 37105024.0000\n",
      "Epoch 281/500\n",
      "107/107 - 0s - loss: 45230988.0000 - val_loss: 36721660.0000\n",
      "Epoch 282/500\n",
      "107/107 - 0s - loss: 44939580.0000 - val_loss: 36285708.0000\n",
      "Epoch 283/500\n",
      "107/107 - 0s - loss: 44703840.0000 - val_loss: 36096000.0000\n",
      "Epoch 284/500\n",
      "107/107 - 0s - loss: 44465840.0000 - val_loss: 35953240.0000\n",
      "Epoch 285/500\n",
      "107/107 - 0s - loss: 44257732.0000 - val_loss: 35699728.0000\n",
      "Epoch 286/500\n",
      "107/107 - 0s - loss: 44034200.0000 - val_loss: 35370768.0000\n",
      "Epoch 287/500\n",
      "107/107 - 0s - loss: 43824156.0000 - val_loss: 35109876.0000\n",
      "Epoch 288/500\n",
      "107/107 - 0s - loss: 43652736.0000 - val_loss: 34742716.0000\n",
      "Epoch 289/500\n",
      "107/107 - 0s - loss: 43446016.0000 - val_loss: 34779692.0000\n",
      "Epoch 290/500\n",
      "107/107 - 0s - loss: 43288532.0000 - val_loss: 34680792.0000\n",
      "Epoch 291/500\n",
      "107/107 - 0s - loss: 43155224.0000 - val_loss: 34388172.0000\n",
      "Epoch 292/500\n",
      "107/107 - 0s - loss: 42971820.0000 - val_loss: 34190656.0000\n",
      "Epoch 293/500\n",
      "107/107 - 0s - loss: 42843880.0000 - val_loss: 34062552.0000\n",
      "Epoch 294/500\n",
      "107/107 - 0s - loss: 42703792.0000 - val_loss: 33978564.0000\n",
      "Epoch 295/500\n",
      "107/107 - 0s - loss: 42586624.0000 - val_loss: 33596756.0000\n",
      "Epoch 296/500\n",
      "107/107 - 0s - loss: 42460340.0000 - val_loss: 33380634.0000\n",
      "Epoch 297/500\n",
      "107/107 - 0s - loss: 42324516.0000 - val_loss: 33380898.0000\n",
      "Epoch 298/500\n",
      "107/107 - 0s - loss: 42259420.0000 - val_loss: 33134702.0000\n",
      "Epoch 299/500\n",
      "107/107 - 0s - loss: 42108468.0000 - val_loss: 33138164.0000\n",
      "Epoch 300/500\n",
      "107/107 - 0s - loss: 42044224.0000 - val_loss: 33045894.0000\n",
      "Epoch 301/500\n",
      "107/107 - 0s - loss: 41936108.0000 - val_loss: 32822826.0000\n",
      "Epoch 302/500\n",
      "107/107 - 0s - loss: 41863880.0000 - val_loss: 32931604.0000\n",
      "Epoch 303/500\n",
      "107/107 - 0s - loss: 41784088.0000 - val_loss: 32628392.0000\n",
      "Epoch 304/500\n",
      "107/107 - 0s - loss: 41689772.0000 - val_loss: 32457804.0000\n",
      "Epoch 305/500\n",
      "107/107 - 0s - loss: 41622688.0000 - val_loss: 32525942.0000\n",
      "Epoch 306/500\n",
      "107/107 - 0s - loss: 41526404.0000 - val_loss: 32385296.0000\n",
      "Epoch 307/500\n",
      "107/107 - 0s - loss: 41465344.0000 - val_loss: 32370918.0000\n",
      "Epoch 308/500\n",
      "107/107 - 0s - loss: 41415076.0000 - val_loss: 32166702.0000\n",
      "Epoch 309/500\n",
      "107/107 - 0s - loss: 41330736.0000 - val_loss: 32142176.0000\n",
      "Epoch 310/500\n",
      "107/107 - 0s - loss: 41279180.0000 - val_loss: 31965596.0000\n",
      "Epoch 311/500\n",
      "107/107 - 0s - loss: 41209468.0000 - val_loss: 32029214.0000\n",
      "Epoch 312/500\n",
      "107/107 - 0s - loss: 41184048.0000 - val_loss: 31712504.0000\n",
      "Epoch 313/500\n",
      "107/107 - 0s - loss: 41095340.0000 - val_loss: 31813232.0000\n",
      "Epoch 314/500\n",
      "107/107 - 0s - loss: 41080752.0000 - val_loss: 31723396.0000\n",
      "Epoch 315/500\n",
      "107/107 - 0s - loss: 41036356.0000 - val_loss: 31607328.0000\n",
      "Epoch 316/500\n",
      "107/107 - 0s - loss: 40962884.0000 - val_loss: 31755848.0000\n",
      "Epoch 317/500\n",
      "107/107 - 0s - loss: 40915936.0000 - val_loss: 31557446.0000\n",
      "Epoch 318/500\n",
      "107/107 - 0s - loss: 40895576.0000 - val_loss: 31508054.0000\n",
      "Epoch 319/500\n",
      "107/107 - 0s - loss: 40877068.0000 - val_loss: 31422420.0000\n",
      "Epoch 320/500\n",
      "107/107 - 0s - loss: 40847760.0000 - val_loss: 31547316.0000\n",
      "Epoch 321/500\n",
      "107/107 - 0s - loss: 40756116.0000 - val_loss: 31316954.0000\n",
      "Epoch 322/500\n",
      "107/107 - 0s - loss: 40749092.0000 - val_loss: 31177340.0000\n",
      "Epoch 323/500\n",
      "107/107 - 0s - loss: 40715980.0000 - val_loss: 31242718.0000\n",
      "Epoch 324/500\n",
      "107/107 - 0s - loss: 40691864.0000 - val_loss: 31157390.0000\n",
      "Epoch 325/500\n",
      "107/107 - 0s - loss: 40643496.0000 - val_loss: 31238094.0000\n",
      "Epoch 326/500\n",
      "107/107 - 0s - loss: 40679564.0000 - val_loss: 31139656.0000\n"
     ]
    },
    {
     "name": "stdout",
     "output_type": "stream",
     "text": [
      "Epoch 327/500\n",
      "107/107 - 0s - loss: 40553672.0000 - val_loss: 31078752.0000\n",
      "Epoch 328/500\n",
      "107/107 - 0s - loss: 40522104.0000 - val_loss: 31153780.0000\n",
      "Epoch 329/500\n",
      "107/107 - 0s - loss: 40489824.0000 - val_loss: 31065214.0000\n",
      "Epoch 330/500\n",
      "107/107 - 0s - loss: 40488040.0000 - val_loss: 31012004.0000\n",
      "Epoch 331/500\n",
      "107/107 - 0s - loss: 40449644.0000 - val_loss: 30878782.0000\n",
      "Epoch 332/500\n",
      "107/107 - 0s - loss: 40429068.0000 - val_loss: 30924972.0000\n",
      "Epoch 333/500\n",
      "107/107 - 0s - loss: 40399128.0000 - val_loss: 30964278.0000\n",
      "Epoch 334/500\n",
      "107/107 - 0s - loss: 40387516.0000 - val_loss: 31001200.0000\n",
      "Epoch 335/500\n",
      "107/107 - 0s - loss: 40318772.0000 - val_loss: 30681234.0000\n",
      "Epoch 336/500\n",
      "107/107 - 0s - loss: 40334364.0000 - val_loss: 30806250.0000\n",
      "Epoch 337/500\n",
      "107/107 - 0s - loss: 40296804.0000 - val_loss: 30729928.0000\n",
      "Epoch 338/500\n",
      "107/107 - 0s - loss: 40294184.0000 - val_loss: 30836244.0000\n",
      "Epoch 339/500\n",
      "107/107 - 0s - loss: 40224764.0000 - val_loss: 30469694.0000\n",
      "Epoch 340/500\n",
      "107/107 - 0s - loss: 40202660.0000 - val_loss: 30598972.0000\n",
      "Epoch 341/500\n",
      "107/107 - 0s - loss: 40226624.0000 - val_loss: 30743642.0000\n",
      "Epoch 342/500\n",
      "107/107 - 0s - loss: 40173520.0000 - val_loss: 30555952.0000\n",
      "Epoch 343/500\n",
      "107/107 - 0s - loss: 40163376.0000 - val_loss: 30480192.0000\n",
      "Epoch 344/500\n",
      "Restoring model weights from the end of the best epoch.\n",
      "107/107 - 0s - loss: 40165268.0000 - val_loss: 30560268.0000\n",
      "Epoch 00344: early stopping\n"
     ]
    },
    {
     "data": {
      "text/plain": [
       "<tensorflow.python.keras.callbacks.History at 0x210014f6048>"
      ]
     },
     "execution_count": 181,
     "metadata": {},
     "output_type": "execute_result"
    }
   ],
   "source": [
    "nn_model = Sequential()\n",
    "nn_model.add(Dense(10, input_dim=X.shape[1], activation='relu'))\n",
    "nn_model.add(Dense(5, activation='relu'))\n",
    "nn_model.add(Dense(1))\n",
    "nn_model.compile(loss='mean_squared_error', optimizer='adam')\n",
    "monitor = EarlyStopping(monitor='val_loss', min_delta=1e-3, patience=5, verbose=1, mode='auto', restore_best_weights=True)\n",
    "\n",
    "nn_model.fit(X_train,y_train,validation_data=(X_test,y_test),verbose=2,epochs=500,batch_size=10,callbacks=[monitor])"
   ]
  },
  {
   "cell_type": "code",
   "execution_count": 182,
   "metadata": {},
   "outputs": [
    {
     "name": "stdout",
     "output_type": "stream",
     "text": [
      "RMSE: 5519.936146724641\n"
     ]
    }
   ],
   "source": [
    "pred = nn_model.predict(X_test)\n",
    "print('RMSE:', np.sqrt(metrics.mean_squared_error(pred,y_test)))\n",
    "RMSEs.append(np.sqrt(metrics.mean_squared_error(pred,y_test)))"
   ]
  },
  {
   "cell_type": "markdown",
   "metadata": {},
   "source": [
    "Let's tweak the neural network and see if we can do better. In the next model, I will increase the first hidden layer size to 20, increase the following hidden layer size to 10, and then add 2 more hidden layers with 5 nodes."
   ]
  },
  {
   "cell_type": "code",
   "execution_count": 183,
   "metadata": {},
   "outputs": [
    {
     "name": "stdout",
     "output_type": "stream",
     "text": [
      "Epoch 1/1000\n",
      "214/214 - 0s - loss: 324269760.0000 - val_loss: 274367584.0000\n",
      "Epoch 2/1000\n",
      "214/214 - 0s - loss: 207811648.0000 - val_loss: 131332096.0000\n",
      "Epoch 3/1000\n",
      "214/214 - 0s - loss: 138578096.0000 - val_loss: 130364232.0000\n",
      "Epoch 4/1000\n",
      "214/214 - 0s - loss: 137408464.0000 - val_loss: 129552248.0000\n",
      "Epoch 5/1000\n",
      "214/214 - 0s - loss: 136592384.0000 - val_loss: 129259352.0000\n",
      "Epoch 6/1000\n",
      "214/214 - 0s - loss: 135907968.0000 - val_loss: 128455360.0000\n",
      "Epoch 7/1000\n",
      "214/214 - 0s - loss: 134759392.0000 - val_loss: 127117984.0000\n",
      "Epoch 8/1000\n",
      "214/214 - 0s - loss: 134195464.0000 - val_loss: 126797544.0000\n",
      "Epoch 9/1000\n",
      "214/214 - 0s - loss: 133827512.0000 - val_loss: 125210768.0000\n",
      "Epoch 10/1000\n",
      "214/214 - 0s - loss: 132203736.0000 - val_loss: 126579248.0000\n",
      "Epoch 11/1000\n",
      "214/214 - 0s - loss: 131133832.0000 - val_loss: 123383512.0000\n",
      "Epoch 12/1000\n",
      "214/214 - 0s - loss: 130344472.0000 - val_loss: 123009976.0000\n",
      "Epoch 13/1000\n",
      "214/214 - 0s - loss: 129249040.0000 - val_loss: 122548536.0000\n",
      "Epoch 14/1000\n",
      "214/214 - 0s - loss: 128308992.0000 - val_loss: 120946176.0000\n",
      "Epoch 15/1000\n",
      "214/214 - 0s - loss: 127104328.0000 - val_loss: 120325200.0000\n",
      "Epoch 16/1000\n",
      "214/214 - 0s - loss: 125958160.0000 - val_loss: 118889936.0000\n",
      "Epoch 17/1000\n",
      "214/214 - 0s - loss: 124841480.0000 - val_loss: 117749504.0000\n",
      "Epoch 18/1000\n",
      "214/214 - 0s - loss: 123160136.0000 - val_loss: 115551408.0000\n",
      "Epoch 19/1000\n",
      "214/214 - 0s - loss: 121663224.0000 - val_loss: 113917640.0000\n",
      "Epoch 20/1000\n",
      "214/214 - 0s - loss: 119857472.0000 - val_loss: 111776200.0000\n",
      "Epoch 21/1000\n",
      "214/214 - 0s - loss: 118075856.0000 - val_loss: 110386120.0000\n",
      "Epoch 22/1000\n",
      "214/214 - 0s - loss: 115731504.0000 - val_loss: 108026720.0000\n",
      "Epoch 23/1000\n",
      "214/214 - 0s - loss: 113357968.0000 - val_loss: 105540168.0000\n",
      "Epoch 24/1000\n",
      "214/214 - 0s - loss: 110337536.0000 - val_loss: 103982968.0000\n",
      "Epoch 25/1000\n",
      "214/214 - 0s - loss: 107312440.0000 - val_loss: 98571864.0000\n",
      "Epoch 26/1000\n",
      "214/214 - 0s - loss: 103044904.0000 - val_loss: 95215984.0000\n",
      "Epoch 27/1000\n",
      "214/214 - 0s - loss: 98243112.0000 - val_loss: 88946672.0000\n",
      "Epoch 28/1000\n",
      "214/214 - 0s - loss: 92631808.0000 - val_loss: 82171616.0000\n",
      "Epoch 29/1000\n",
      "214/214 - 0s - loss: 85713072.0000 - val_loss: 75091824.0000\n",
      "Epoch 30/1000\n",
      "214/214 - 0s - loss: 78041312.0000 - val_loss: 66202456.0000\n",
      "Epoch 31/1000\n",
      "214/214 - 0s - loss: 69389128.0000 - val_loss: 57748976.0000\n",
      "Epoch 32/1000\n",
      "214/214 - 0s - loss: 61329972.0000 - val_loss: 49458196.0000\n",
      "Epoch 33/1000\n",
      "214/214 - 0s - loss: 54073784.0000 - val_loss: 43361856.0000\n",
      "Epoch 34/1000\n",
      "214/214 - 0s - loss: 48677700.0000 - val_loss: 37681672.0000\n",
      "Epoch 35/1000\n",
      "214/214 - 0s - loss: 45362172.0000 - val_loss: 35550272.0000\n",
      "Epoch 36/1000\n",
      "214/214 - 0s - loss: 43295820.0000 - val_loss: 33026288.0000\n",
      "Epoch 37/1000\n",
      "214/214 - 0s - loss: 42275304.0000 - val_loss: 35165148.0000\n",
      "Epoch 38/1000\n",
      "214/214 - 0s - loss: 41888376.0000 - val_loss: 32962018.0000\n",
      "Epoch 39/1000\n",
      "214/214 - 0s - loss: 41568952.0000 - val_loss: 31708342.0000\n",
      "Epoch 40/1000\n",
      "214/214 - 0s - loss: 41189884.0000 - val_loss: 30809712.0000\n",
      "Epoch 41/1000\n",
      "214/214 - 0s - loss: 40967348.0000 - val_loss: 30765984.0000\n",
      "Epoch 42/1000\n",
      "214/214 - 0s - loss: 40954280.0000 - val_loss: 30261534.0000\n",
      "Epoch 43/1000\n",
      "214/214 - 0s - loss: 40561216.0000 - val_loss: 31733086.0000\n",
      "Epoch 44/1000\n",
      "214/214 - 0s - loss: 40261100.0000 - val_loss: 34847168.0000\n",
      "Epoch 45/1000\n",
      "214/214 - 0s - loss: 40431084.0000 - val_loss: 30199968.0000\n",
      "Epoch 46/1000\n",
      "214/214 - 0s - loss: 40365540.0000 - val_loss: 29678498.0000\n",
      "Epoch 47/1000\n",
      "214/214 - 0s - loss: 40258064.0000 - val_loss: 29841602.0000\n",
      "Epoch 48/1000\n",
      "214/214 - 0s - loss: 40086716.0000 - val_loss: 32379766.0000\n",
      "Epoch 49/1000\n",
      "214/214 - 0s - loss: 40074976.0000 - val_loss: 29189876.0000\n",
      "Epoch 50/1000\n",
      "214/214 - 0s - loss: 40143140.0000 - val_loss: 29710514.0000\n",
      "Epoch 51/1000\n",
      "214/214 - 0s - loss: 40089324.0000 - val_loss: 29249572.0000\n",
      "Epoch 52/1000\n",
      "214/214 - 0s - loss: 39806968.0000 - val_loss: 32419618.0000\n",
      "Epoch 53/1000\n",
      "214/214 - 0s - loss: 40021092.0000 - val_loss: 29991630.0000\n",
      "Epoch 54/1000\n",
      "Restoring model weights from the end of the best epoch.\n",
      "214/214 - 0s - loss: 40202380.0000 - val_loss: 30126658.0000\n",
      "Epoch 00054: early stopping\n"
     ]
    },
    {
     "data": {
      "text/plain": [
       "<tensorflow.python.keras.callbacks.History at 0x21001605c08>"
      ]
     },
     "execution_count": 183,
     "metadata": {},
     "output_type": "execute_result"
    }
   ],
   "source": [
    "nn_model2 = Sequential()\n",
    "nn_model2.add(Dense(20, input_dim=X.shape[1], activation='relu'))\n",
    "nn_model2.add(Dense(10, activation='relu'))\n",
    "nn_model2.add(Dense(10, activation='relu'))\n",
    "nn_model2.add(Dense(5, activation='relu'))\n",
    "nn_model2.add(Dense(5, activation='relu'))\n",
    "nn_model2.add(Dense(1))\n",
    "nn_model2.compile(loss='mean_squared_error', optimizer='adam')\n",
    "monitor = EarlyStopping(monitor='val_loss', min_delta=1e-3, patience=5, verbose=1, mode='auto', restore_best_weights=True)\n",
    "\n",
    "nn_model2.fit(X_train,y_train,validation_data=(X_test,y_test),verbose=2,epochs=1000,batch_size=5,callbacks=[monitor])"
   ]
  },
  {
   "cell_type": "code",
   "execution_count": 184,
   "metadata": {},
   "outputs": [
    {
     "name": "stdout",
     "output_type": "stream",
     "text": [
      "RMSE: 5402.765621728061\n"
     ]
    }
   ],
   "source": [
    "pred = nn_model2.predict(X_test)\n",
    "print('RMSE:', np.sqrt(metrics.mean_squared_error(pred,y_test)))\n",
    "RMSEs.append(np.sqrt(metrics.mean_squared_error(pred,y_test)))"
   ]
  },
  {
   "cell_type": "code",
   "execution_count": 209,
   "metadata": {},
   "outputs": [
    {
     "data": {
      "text/html": [
       "<div>\n",
       "<style scoped>\n",
       "    .dataframe tbody tr th:only-of-type {\n",
       "        vertical-align: middle;\n",
       "    }\n",
       "\n",
       "    .dataframe tbody tr th {\n",
       "        vertical-align: top;\n",
       "    }\n",
       "\n",
       "    .dataframe thead th {\n",
       "        text-align: right;\n",
       "    }\n",
       "</style>\n",
       "<table border=\"1\" class=\"dataframe\">\n",
       "  <thead>\n",
       "    <tr style=\"text-align: right;\">\n",
       "      <th></th>\n",
       "      <th>linear_reg</th>\n",
       "      <th>linear_reg_stepwise</th>\n",
       "      <th>nn1</th>\n",
       "      <th>nn2</th>\n",
       "    </tr>\n",
       "  </thead>\n",
       "  <tbody>\n",
       "    <tr>\n",
       "      <th>0</th>\n",
       "      <td>5360.723718</td>\n",
       "      <td>5390.060878</td>\n",
       "      <td>5519.936147</td>\n",
       "      <td>5402.765622</td>\n",
       "    </tr>\n",
       "  </tbody>\n",
       "</table>\n",
       "</div>"
      ],
      "text/plain": [
       "    linear_reg  linear_reg_stepwise          nn1          nn2\n",
       "0  5360.723718          5390.060878  5519.936147  5402.765622"
      ]
     },
     "execution_count": 209,
     "metadata": {},
     "output_type": "execute_result"
    }
   ],
   "source": [
    "cols = ['linear_reg','linear_reg_stepwise','nn1','nn2']\n",
    "RMSEs = pd.DataFrame(RMSEs).transpose()\n",
    "RMSEs.columns = cols\n",
    "RMSEs"
   ]
  },
  {
   "cell_type": "markdown",
   "metadata": {},
   "source": [
    "So it looks like our original regression model performed the best. Sometimes the simplest model is best, although I would not say that our regression model is very accurate. Again, I think there was some assumption made when simulating this data that is causing those 2 clusters we noticed, which makes our model more inaccurate."
   ]
  },
  {
   "cell_type": "markdown",
   "metadata": {},
   "source": [
    "### Recap"
   ]
  },
  {
   "cell_type": "markdown",
   "metadata": {},
   "source": [
    "Here is a recap of what we did:\n",
    "1. We thoroughly reviewed our data and explored any potential relationships before we created any models or made any assumptions\n",
    "2. We then created a couple of regression models to predict the charges column\n",
    "3. We created a couple of machine learning models to predict the smoker column\n",
    "4. Finally, we attempted to create a neural network to better predict the charges column"
   ]
  },
  {
   "cell_type": "markdown",
   "metadata": {},
   "source": [
    "Thanks for following along! Feel free to reach out to me with any tips/comments. My email is tmf13@my.fsu.edu."
   ]
  },
  {
   "cell_type": "code",
   "execution_count": null,
   "metadata": {},
   "outputs": [],
   "source": []
  }
 ],
 "metadata": {
  "kernelspec": {
   "display_name": "Python 3",
   "language": "python",
   "name": "python3"
  },
  "language_info": {
   "codemirror_mode": {
    "name": "ipython",
    "version": 3
   },
   "file_extension": ".py",
   "mimetype": "text/x-python",
   "name": "python",
   "nbconvert_exporter": "python",
   "pygments_lexer": "ipython3",
   "version": "3.7.6"
  }
 },
 "nbformat": 4,
 "nbformat_minor": 4
}
